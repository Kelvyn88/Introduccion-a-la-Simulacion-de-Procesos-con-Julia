{
 "cells": [
  {
   "cell_type": "markdown",
   "metadata": {},
   "source": [
    "# Jupyter\n",
    "Ésta es una libreta de Jupyter, está hecha de celdas que pueden tener distintos tipos. Esta es una celda de markdown. En ella puedes escribir notas en [md](https://github.com/adam-p/markdown-here/wiki/Markdown-Cheatsheet) y latex:\n",
    "\n",
    "\n",
    "\n",
    "\\begin{align}\n",
    " A &=     \\left(\\int_t XXX       \\right.\\nonumber\\\\\n",
    "   &\\qquad \\left.\\vphantom{\\int_t} YYY \\dots \\right)\n",
    "\\end{align}\n",
    "\n",
    "Para convertir éste markdown en html preciona <kbd> Shift + Enter </kbd>.\n",
    "\n",
    "Para ver el markdown dá doble click en la celda, o posicionate con las flechas y preciona <kbd>Enter</kbd>."
   ]
  },
  {
   "cell_type": "code",
   "execution_count": 1,
   "metadata": {},
   "outputs": [
    {
     "name": "stdout",
     "output_type": "stream",
     "text": [
      "Julia Version 0.6.0\n",
      "Commit 903644385b* (2017-06-19 13:05 UTC)\n",
      "Platform Info:\n",
      "  OS: Windows (x86_64-w64-mingw32)\n",
      "  CPU: AMD A8-7410 APU with AMD Radeon R5 Graphics    \n",
      "  WORD_SIZE: 64\n",
      "  BLAS: libopenblas (USE64BITINT DYNAMIC_ARCH NO_AFFINITY Barcelona)\n",
      "  LAPACK: libopenblas64_\n",
      "  LIBM: libopenlibm\n",
      "  LLVM: libLLVM-3.9.1 (ORCJIT, btver2)\n"
     ]
    }
   ],
   "source": [
    "# Esta es una celda de código. En ella puedes correr código segun el kernel de la libreta que elijas. Julia 0.6.0 en éste caso\n",
    "versioninfo()"
   ]
  },
  {
   "cell_type": "code",
   "execution_count": 5,
   "metadata": {},
   "outputs": [
    {
     "data": {
      "text/plain": [
       "1.09868411346781 + 0.45508986056222733im"
      ]
     },
     "execution_count": 5,
     "metadata": {},
     "output_type": "execute_result"
    }
   ],
   "source": [
    "# Para autoacompletar una función presiona tabulador. Intentalo aquí\n",
    "sqrt(complex(1+1im))"
   ]
  },
  {
   "cell_type": "code",
   "execution_count": 13,
   "metadata": {},
   "outputs": [
    {
     "name": "stdout",
     "output_type": "stream",
     "text": [
      "search: \u001b[1mf\u001b[22m\u001b[1mf\u001b[22m\u001b[1mt\u001b[22m \u001b[1mf\u001b[22m\u001b[1mf\u001b[22m\u001b[1mt\u001b[22m! \u001b[1mF\u001b[22m\u001b[1mF\u001b[22m\u001b[1mT\u001b[22mW \u001b[1mf\u001b[22m\u001b[1mf\u001b[22m\u001b[1mt\u001b[22mshift r\u001b[1mf\u001b[22m\u001b[1mf\u001b[22m\u001b[1mt\u001b[22m i\u001b[1mf\u001b[22m\u001b[1mf\u001b[22m\u001b[1mt\u001b[22m b\u001b[1mf\u001b[22m\u001b[1mf\u001b[22m\u001b[1mt\u001b[22m i\u001b[1mf\u001b[22m\u001b[1mf\u001b[22m\u001b[1mt\u001b[22m! b\u001b[1mf\u001b[22m\u001b[1mf\u001b[22m\u001b[1mt\u001b[22m! i\u001b[1mf\u001b[22m\u001b[1mf\u001b[22m\u001b[1mt\u001b[22mshift ir\u001b[1mf\u001b[22m\u001b[1mf\u001b[22m\u001b[1mt\u001b[22m br\u001b[1mf\u001b[22m\u001b[1mf\u001b[22m\u001b[1mt\u001b[22m\n",
      "\n"
     ]
    },
    {
     "data": {
      "text/markdown": [
       "```\n",
       "fft(A [, dims])\n",
       "```\n",
       "\n",
       "Performs a multidimensional FFT of the array `A`. The optional `dims` argument specifies an iterable subset of dimensions (e.g. an integer, range, tuple, or array) to transform along. Most efficient if the size of `A` along the transformed dimensions is a product of small primes; see `nextprod()`. See also `plan_fft()` for even greater efficiency.\n",
       "\n",
       "A one-dimensional FFT computes the one-dimensional discrete Fourier transform (DFT) as defined by\n",
       "\n",
       "$$\n",
       "\\operatorname{DFT}(A)[k] =\n",
       "  \\sum_{n=1}^{\\operatorname{length}(A)}\n",
       "  \\exp\\left(-i\\frac{2\\pi\n",
       "  (n-1)(k-1)}{\\operatorname{length}(A)} \\right) A[n].\n",
       "$$\n",
       "\n",
       "A multidimensional FFT simply performs this operation along each transformed dimension of `A`.\n",
       "\n",
       "!!! note\n",
       "      * Julia starts FFTW up with 1 thread by default. Higher performance is usually possible by increasing number of threads. Use `FFTW.set_num_threads(Sys.CPU_CORES)` to use as many threads as cores on your system.\n",
       "      * This performs a multidimensional FFT by default. FFT libraries in other languages such as Python and Octave perform a one-dimensional FFT along the first non-singleton dimension of the array. This is worth noting while performing comparisons. For more details, refer to the [Noteworthy Differences from other Languages](@ref) section of the manual.\n",
       "\n"
      ],
      "text/plain": [
       "```\n",
       "fft(A [, dims])\n",
       "```\n",
       "\n",
       "Performs a multidimensional FFT of the array `A`. The optional `dims` argument specifies an iterable subset of dimensions (e.g. an integer, range, tuple, or array) to transform along. Most efficient if the size of `A` along the transformed dimensions is a product of small primes; see `nextprod()`. See also `plan_fft()` for even greater efficiency.\n",
       "\n",
       "A one-dimensional FFT computes the one-dimensional discrete Fourier transform (DFT) as defined by\n",
       "\n",
       "$$\n",
       "\\operatorname{DFT}(A)[k] =\n",
       "  \\sum_{n=1}^{\\operatorname{length}(A)}\n",
       "  \\exp\\left(-i\\frac{2\\pi\n",
       "  (n-1)(k-1)}{\\operatorname{length}(A)} \\right) A[n].\n",
       "$$\n",
       "\n",
       "A multidimensional FFT simply performs this operation along each transformed dimension of `A`.\n",
       "\n",
       "!!! note\n",
       "      * Julia starts FFTW up with 1 thread by default. Higher performance is usually possible by increasing number of threads. Use `FFTW.set_num_threads(Sys.CPU_CORES)` to use as many threads as cores on your system.\n",
       "      * This performs a multidimensional FFT by default. FFT libraries in other languages such as Python and Octave perform a one-dimensional FFT along the first non-singleton dimension of the array. This is worth noting while performing comparisons. For more details, refer to the [Noteworthy Differences from other Languages](@ref) section of the manual.\n",
       "\n"
      ]
     },
     "execution_count": 13,
     "metadata": {},
     "output_type": "execute_result"
    }
   ],
   "source": [
    "?fft"
   ]
  },
  {
   "cell_type": "code",
   "execution_count": 17,
   "metadata": {},
   "outputs": [
    {
     "data": {
      "text/plain": [
       "2"
      ]
     },
     "execution_count": 17,
     "metadata": {},
     "output_type": "execute_result"
    }
   ],
   "source": [
    "# Para obtener información sobre una variable presiona shift + tab despues de ella (una vez que esté en el scope)\n",
    "# Corre ésta celda e intentalo en la siguiente\n",
    "x = 2"
   ]
  },
  {
   "cell_type": "code",
   "execution_count": 18,
   "metadata": {},
   "outputs": [
    {
     "data": {
      "text/plain": [
       "5.141592653589793"
      ]
     },
     "execution_count": 18,
     "metadata": {},
     "output_type": "execute_result"
    }
   ],
   "source": [
    "x + π"
   ]
  },
  {
   "cell_type": "code",
   "execution_count": 10,
   "metadata": {},
   "outputs": [
    {
     "data": {
      "text/plain": [
       "10"
      ]
     },
     "execution_count": 10,
     "metadata": {},
     "output_type": "execute_result"
    },
    {
     "name": "stdout",
     "output_type": "stream",
     "text": [
      "\"\u001b[36mα\u001b[39m\" can be typed by \u001b[36m\\alpha<tab>\u001b[39m\n",
      "\n"
     ]
    }
   ],
   "source": [
    "# Para escribir latex en julia escribe el caractér `\\` y el latex que desees. Puedes autoacompletar con Tab\n",
    "# Una vez que tengas tu latex listo preciona Tab de nuevo. Intentalo:\n",
    "α=10"
   ]
  },
  {
   "cell_type": "markdown",
   "metadata": {},
   "source": [
    "Para acceder a la documentación de julia, comienza tu celda con un signo de interrogación y la palabra que quieras buscar en la documentación."
   ]
  },
  {
   "cell_type": "code",
   "execution_count": 20,
   "metadata": {},
   "outputs": [
    {
     "data": {
      "text/plain": [
       "82 + 0im"
      ]
     },
     "execution_count": 20,
     "metadata": {},
     "output_type": "execute_result"
    }
   ],
   "source": [
    "(1-9im)*conj(1-9im)"
   ]
  },
  {
   "cell_type": "markdown",
   "metadata": {},
   "source": [
    "Para acceder a la ayuda de jupyter preciona <kbd>Esc</kbd> y <kbd>h</kbd>. (O simplementa da click en el botón de arriba que dice `Help' ;D )"
   ]
  }
 ],
 "metadata": {
  "kernelspec": {
   "display_name": "Julia 0.6.0",
   "language": "julia",
   "name": "julia-0.6"
  },
  "language_info": {
   "file_extension": ".jl",
   "mimetype": "application/julia",
   "name": "julia",
   "version": "0.6.0"
  },
  "widgets": {
   "state": {},
   "version": "1.1.2"
  }
 },
 "nbformat": 4,
 "nbformat_minor": 2
}
