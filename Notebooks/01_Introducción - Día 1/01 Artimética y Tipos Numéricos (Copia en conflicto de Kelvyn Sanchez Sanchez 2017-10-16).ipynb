{
 "cells": [
  {
   "cell_type": "markdown",
   "metadata": {},
   "source": [
    "# Operaciones Matemáticas y Funciones Elementales\n",
    "\n",
    "Cómo pueden ver, julia (tanto en notebook, cómo en terminal) funciona cómo una alternativa a la calculadora del sistema operativo. Estas son algunas de las operaciones básicas que ofrece:\n",
    "\n",
    "  |Expresión   |Nombre           |Descripción\n",
    "  |------------|-----------------|------------------------------\n",
    "  |`+x`        |Suma Unitaria    |Operación identidad\n",
    "  |`-x`        |Resta Unitaria   |Inverso aditivo (Negativo\n",
    "  |`x + y`     |Suma Binaria     |Suma\n",
    "  |`x - y`     |Resta Binaria    |Resta\n",
    "  |`x * y`     |Multiplicación   |Multiplicación\n",
    "  |`x / y`     |División         |División\n",
    "  |`x \\ y`     |División Inversa |Eqivalente a `y / x`\n",
    "  |`x ^ y`     |Exponenciación   |Eleva `x` a la `y`\n",
    "  |`x % y`     |Módulo           |Residuo de división `rem(x,y)`"
   ]
  },
  {
   "cell_type": "markdown",
   "metadata": {
    "collapsed": true
   },
   "source": [
    "Suma dos más dos:"
   ]
  },
  {
   "cell_type": "code",
   "execution_count": 1,
   "metadata": {},
   "outputs": [
    {
     "data": {
      "text/plain": [
       "4"
      ]
     },
     "execution_count": 1,
     "metadata": {},
     "output_type": "execute_result"
    }
   ],
   "source": [
    "2+2"
   ]
  },
  {
   "cell_type": "markdown",
   "metadata": {
    "collapsed": true
   },
   "source": [
    "Prueba las demás operaciones de distintas formas."
   ]
  },
  {
   "cell_type": "code",
   "execution_count": 1,
   "metadata": {},
   "outputs": [
    {
     "data": {
      "text/plain": [
       "0"
      ]
     },
     "execution_count": 1,
     "metadata": {},
     "output_type": "execute_result"
    }
   ],
   "source": [
    "42%2"
   ]
  },
  {
   "cell_type": "markdown",
   "metadata": {
    "collapsed": true
   },
   "source": [
    "## Operaciones de comparación\n",
    "Otro conjunto de operaciones te permite comparar dos números:\n",
    "\n",
    "|Operador |Nombre         |\n",
    "|---------|---------------|\n",
    "|==       |Igualdad       |\n",
    "|!= ≠     |Desigualdad    |\n",
    "|<        |Menor que      |\n",
    "|<= ≤     |Menor o igual a|\n",
    "|>        |Mayor que      |\n",
    "|>= ≥     |Mayor o igual a|"
   ]
  },
  {
   "cell_type": "markdown",
   "metadata": {
    "collapsed": true
   },
   "source": [
    "Por ahora no es muy util comprobar si 2 es igual a 2, pero estos operadores nos serán muy importantes más adelante."
   ]
  },
  {
   "cell_type": "code",
   "execution_count": 5,
   "metadata": {},
   "outputs": [
    {
     "data": {
      "text/plain": [
       "true"
      ]
     },
     "execution_count": 5,
     "metadata": {},
     "output_type": "execute_result"
    }
   ],
   "source": [
    "2==2.0"
   ]
  },
  {
   "cell_type": "markdown",
   "metadata": {
    "collapsed": true
   },
   "source": [
    "Suma 2 + 2.0 y observa el resultado."
   ]
  },
  {
   "cell_type": "code",
   "execution_count": 6,
   "metadata": {},
   "outputs": [
    {
     "data": {
      "text/plain": [
       "4.0"
      ]
     },
     "execution_count": 6,
     "metadata": {},
     "output_type": "execute_result"
    }
   ],
   "source": [
    "2+2.0"
   ]
  },
  {
   "cell_type": "markdown",
   "metadata": {},
   "source": [
    "Lo que acabas de ver es una promoción de tipo. No te preocupes mucho por lo que es una promoción, pues lo veremos más adelante. Ahora pasaremos a exáminar los distintos tipos numéricos que ofrece Julia."
   ]
  },
  {
   "cell_type": "markdown",
   "metadata": {
    "collapsed": true
   },
   "source": [
    "# Representación\n",
    "La información lógica computacional es exclusivamente binaria.\n",
    "La representación de distintos tipos de numeros es necesaria para satisfacer las necesidades de procesamiento teniendo en cuenta la eficiencia."
   ]
  },
  {
   "cell_type": "markdown",
   "metadata": {},
   "source": [
    "|Type   |Signed?|Number of bits\t|Smallest value\t|Largest value|\n",
    "|-------|:-----:|--------------:|--------------:|------------:|\n",
    "|Int8   |✓      |8              |-2^7           |2^7 - 1      |\n",
    "|UInt8  |       |8              |0              |2^8 - 1      |\n",
    "|Int16  |✓      |16             |-2^15          |2^15 - 1     |\n",
    "|UInt16 |       |16             |0              |2^16 - 1     |\n",
    "|Int32  |✓      |32             |-2^31          |2^31 - 1     |\n",
    "|UInt32 |       |32             |0              |2^32 - 1     |\n",
    "|Int64  |✓      |64             |-2^63          |2^63 - 1     |\n",
    "|UInt64 |       |64             |0              |2^64 - 1     |\n",
    "|Int128 |✓      |128            |-2^127         |2^127 - 1    |\n",
    "|UInt128|       |128            |0              |2^128 - 1    |\n",
    "|Bool   |N/A    |8              |false (0)      |true (1)     |"
   ]
  },
  {
   "cell_type": "markdown",
   "metadata": {
    "collapsed": true
   },
   "source": [
    "Es gracias a la representación de distintos tipos que Julia permite un incremento sorprendente de la eficiencia computacional. Prueba distintas operaciones entre tipos y analiza los resultados."
   ]
  },
  {
   "cell_type": "code",
   "execution_count": 1,
   "metadata": {},
   "outputs": [
    {
     "data": {
      "text/plain": [
       "4.0"
      ]
     },
     "execution_count": 1,
     "metadata": {},
     "output_type": "execute_result"
    }
   ],
   "source": [
    "2*2.0"
   ]
  },
  {
   "cell_type": "code",
   "execution_count": 2,
   "metadata": {},
   "outputs": [
    {
     "data": {
      "text/plain": [
       "1.0"
      ]
     },
     "execution_count": 2,
     "metadata": {},
     "output_type": "execute_result"
    }
   ],
   "source": [
    "2/2.0"
   ]
  },
  {
   "cell_type": "code",
   "execution_count": 3,
   "metadata": {},
   "outputs": [
    {
     "data": {
      "text/plain": [
       "4.0"
      ]
     },
     "execution_count": 3,
     "metadata": {},
     "output_type": "execute_result"
    }
   ],
   "source": [
    "2^2.0"
   ]
  },
  {
   "cell_type": "code",
   "execution_count": 4,
   "metadata": {},
   "outputs": [
    {
     "data": {
      "text/plain": [
       "4.0"
      ]
     },
     "execution_count": 4,
     "metadata": {},
     "output_type": "execute_result"
    }
   ],
   "source": [
    "2.0^2 #No importa si es entero o flotante "
   ]
  },
  {
   "cell_type": "markdown",
   "metadata": {},
   "source": [
    "Las cantidad de bits que se utiliza para representar un numero por default depende de la arquitectura de la computadora (32 o 64 bits). Puedes conocer tu arquitectura con el comando `Sys.WORD_SIZE`:"
   ]
  },
  {
   "cell_type": "code",
   "execution_count": 5,
   "metadata": {},
   "outputs": [
    {
     "data": {
      "text/plain": [
       "64"
      ]
     },
     "execution_count": 5,
     "metadata": {},
     "output_type": "execute_result"
    }
   ],
   "source": [
    "Sys.WORD_SIZE"
   ]
  },
  {
   "cell_type": "markdown",
   "metadata": {},
   "source": [
    "Para conocer el tipo de un número utiliza la función `typeof()`. Puedes reconocer las funciones en Julia porque están seguidas de paréntesis. Estos parentesis son la forma de recivir argumentos. Manda llamar la función `typeof()` con los argumentos `1` y `1.0` y observa la diferencia."
   ]
  },
  {
   "cell_type": "code",
   "execution_count": 4,
   "metadata": {},
   "outputs": [
    {
     "data": {
      "text/plain": [
       "String"
      ]
     },
     "execution_count": 4,
     "metadata": {},
     "output_type": "execute_result"
    }
   ],
   "source": [
    "typeof(\"Lilo\")"
   ]
  },
  {
   "cell_type": "markdown",
   "metadata": {},
   "source": [
    "####  Separador numérico\n",
    "Para cifras grandes, el guión bajo puede ser usado como separador numérico: `100_000_000`"
   ]
  },
  {
   "cell_type": "code",
   "execution_count": 13,
   "metadata": {},
   "outputs": [
    {
     "data": {
      "text/plain": [
       "100000000"
      ]
     },
     "execution_count": 13,
     "metadata": {},
     "output_type": "execute_result"
    }
   ],
   "source": [
    "100_000_000"
   ]
  },
  {
   "cell_type": "markdown",
   "metadata": {},
   "source": [
    "#### `typemin()` y `typemax()`\n",
    "Si quieres saber de forma rápida el máximo numero que se puede representar con cada tipo numérico puedes usar las funciones `typemin()` y `typemax()`:"
   ]
  },
  {
   "cell_type": "code",
   "execution_count": 14,
   "metadata": {},
   "outputs": [
    {
     "name": "stdout",
     "output_type": "stream",
     "text": [
      "   Int8: [-128,127]\n",
      "  Int16: [-32768,32767]\n",
      "  Int32: [-2147483648,2147483647]\n",
      "  Int64: [-9223372036854775808,9223372036854775807]\n",
      " Int128: [-170141183460469231731687303715884105728,170141183460469231731687303715884105727]\n",
      "  UInt8: [0,255]\n",
      " UInt16: [0,65535]\n",
      " UInt32: [0,4294967295]\n",
      " UInt64: [0,18446744073709551615]\n",
      "UInt128: [0,340282366920938463463374607431768211455]\n"
     ]
    }
   ],
   "source": [
    "for T in [Int8,Int16,Int32,Int64,Int128,UInt8,UInt16,UInt32,UInt64,UInt128]\n",
    "    println(\"$(lpad(T,7)): [$(typemin(T)),$(typemax(T))]\")\n",
    "end"
   ]
  },
  {
   "cell_type": "markdown",
   "metadata": {},
   "source": [
    "#### Overflow\n",
    "El Overflow, o sobreflujo, sucede cuando sumas un número más al máximo numero representable por tu tipo de dato. Esto es lo que sucede cuando tu dato tiene sobreflujo:"
   ]
  },
  {
   "cell_type": "code",
   "execution_count": 15,
   "metadata": {},
   "outputs": [
    {
     "name": "stdout",
     "output_type": "stream",
     "text": [
      "9223372036854775807\n"
     ]
    },
    {
     "data": {
      "text/plain": [
       "-9223372036854775808"
      ]
     },
     "execution_count": 15,
     "metadata": {},
     "output_type": "execute_result"
    }
   ],
   "source": [
    "println(typemax(Int))\n",
    "typemax(Int) +1"
   ]
  },
  {
   "cell_type": "markdown",
   "metadata": {},
   "source": [
    "#### Flotantes\n",
    "Formato IEEE:\n",
    "https://en.wikipedia.org/wiki/IEEE_floating_point\n",
    " - Numeros Finitos: $ (−1)^s × c × b^q $\n",
    " - Dos Infinitos: $+ \\infty, -\\infty $\n",
    " - Dos NAN.\n",
    " \n",
    "|Float16      | Float32| Float64    |\n",
    "|-------------| -------| -------    |\n",
    "|Inf16        | Inf32  | Inf        |\n",
    "|-Inf16       | -Inf32 | -Inf       |\n",
    "|NaN16        | NaN32  | NaN        |\n",
    "Es importante notar que el **signo** de un número es representado por el primer bit de izquierda a derecha."
   ]
  },
  {
   "cell_type": "code",
   "execution_count": 10,
   "metadata": {},
   "outputs": [
    {
     "name": "stdout",
     "output_type": "stream",
     "text": [
      "2.4e10\n"
     ]
    },
    {
     "data": {
      "text/plain": [
       "Float64"
      ]
     },
     "execution_count": 10,
     "metadata": {},
     "output_type": "execute_result"
    }
   ],
   "source": [
    "println(2.4e10)\n",
    "typeof(2.4e10)"
   ]
  },
  {
   "cell_type": "code",
   "execution_count": 11,
   "metadata": {},
   "outputs": [
    {
     "data": {
      "text/plain": [
       "0.5f0"
      ]
     },
     "execution_count": 11,
     "metadata": {},
     "output_type": "execute_result"
    }
   ],
   "source": [
    "0.5f0"
   ]
  },
  {
   "cell_type": "markdown",
   "metadata": {},
   "source": [
    "¿Qué pasa si divides entre cero, multiplicas por infinito, o sumas a un NaN?"
   ]
  },
  {
   "cell_type": "code",
   "execution_count": 12,
   "metadata": {},
   "outputs": [
    {
     "data": {
      "text/plain": [
       "Inf"
      ]
     },
     "execution_count": 12,
     "metadata": {},
     "output_type": "execute_result"
    }
   ],
   "source": [
    "1/0 "
   ]
  },
  {
   "cell_type": "code",
   "execution_count": null,
   "metadata": {
    "collapsed": true
   },
   "outputs": [],
   "source": [
    "1/Inf "
   ]
  },
  {
   "cell_type": "code",
   "execution_count": null,
   "metadata": {
    "collapsed": true
   },
   "outputs": [],
   "source": [
    "1/Inf*Inf"
   ]
  },
  {
   "cell_type": "code",
   "execution_count": null,
   "metadata": {
    "collapsed": true
   },
   "outputs": [],
   "source": [
    "0/0"
   ]
  },
  {
   "cell_type": "markdown",
   "metadata": {},
   "source": [
    "#### Representación binaria de tipos numéricos\n",
    "La función `bits()` nos permite ver los bits que representan cierto número.\n",
    "**NOTA**:El cero tiene signo:"
   ]
  },
  {
   "cell_type": "code",
   "execution_count": 13,
   "metadata": {},
   "outputs": [
    {
     "name": "stdout",
     "output_type": "stream",
     "text": [
      "0000000000000000000000000000000000000000000000000000000000000000\n",
      "1000000000000000000000000000000000000000000000000000000000000000\n"
     ]
    }
   ],
   "source": [
    "println(bits(0.0))\n",
    "println(bits(-0.0))"
   ]
  },
  {
   "cell_type": "markdown",
   "metadata": {},
   "source": [
    "## Precisión Arbirtraria\n",
    "Como vimos en la introducción, es posible representar números de un tamaño arbirtrariamente grande. Esto se hace con los tipos numéricos `Bigint` y `BigFloat`:"
   ]
  },
  {
   "cell_type": "code",
   "execution_count": 14,
   "metadata": {},
   "outputs": [
    {
     "name": "stdout",
     "output_type": "stream",
     "text": [
      "-9223372036854775808\n"
     ]
    },
    {
     "data": {
      "text/plain": [
       "9223372036854775808"
      ]
     },
     "execution_count": 14,
     "metadata": {},
     "output_type": "execute_result"
    }
   ],
   "source": [
    "println(typemax(Int) + 1)\n",
    "BigInt(typemax(Int)) + 1"
   ]
  },
  {
   "cell_type": "markdown",
   "metadata": {},
   "source": [
    "Para precisiones especificas con `BigFloat`s o `BigInt`s es posible usar la función `setprecision()`. Ésta recibe la precision en bits que se desea utulizar. \n",
    "\n",
    "**NOTA**: esta función cambia la precición global, por lo qué, si deseas que solo se utilice para un bloque de código puedes usar la siguiente sintáxis:\n",
    "```julia\n",
    "setprecision(100) do\n",
    "    BigFloat(π)\n",
    "end\n",
    "```"
   ]
  },
  {
   "cell_type": "code",
   "execution_count": 15,
   "metadata": {},
   "outputs": [
    {
     "data": {
      "text/plain": [
       "3.141592653589793238462643383279502884197169399375105820974944592307816406286198"
      ]
     },
     "execution_count": 15,
     "metadata": {},
     "output_type": "execute_result"
    }
   ],
   "source": [
    "setprecision(2^8) do\n",
    "    BigFloat(π)\n",
    "end"
   ]
  },
  {
   "cell_type": "markdown",
   "metadata": {},
   "source": [
    "## Cero y Uno Literales\n",
    "Para comparaciones numéricas con diferentes tipos es util conocer las funciones `zero()` y `one()` que regresan, como su nombre lo indica, un cero o un uno del mismo tipo que el argumento que reciben:"
   ]
  },
  {
   "cell_type": "code",
   "execution_count": 16,
   "metadata": {},
   "outputs": [
    {
     "name": "stdout",
     "output_type": "stream",
     "text": [
      "0.0\n"
     ]
    },
    {
     "data": {
      "text/plain": [
       "Float64"
      ]
     },
     "execution_count": 16,
     "metadata": {},
     "output_type": "execute_result"
    }
   ],
   "source": [
    "println(zero(10.2))\n",
    "typeof(zero(10.2))"
   ]
  },
  {
   "cell_type": "code",
   "execution_count": 17,
   "metadata": {},
   "outputs": [
    {
     "name": "stdout",
     "output_type": "stream",
     "text": [
      "1\n"
     ]
    },
    {
     "data": {
      "text/plain": [
       "Int64"
      ]
     },
     "execution_count": 17,
     "metadata": {},
     "output_type": "execute_result"
    }
   ],
   "source": [
    "println(one(2))\n",
    "typeof(one(2))"
   ]
  },
  {
   "cell_type": "code",
   "execution_count": null,
   "metadata": {
    "collapsed": true
   },
   "outputs": [],
   "source": []
  }
 ],
 "metadata": {
  "kernelspec": {
   "display_name": "Julia 0.6.0",
   "language": "julia",
   "name": "julia-0.6"
  },
  "language_info": {
   "file_extension": ".jl",
   "mimetype": "application/julia",
   "name": "julia",
   "version": "0.6.0"
  },
  "widgets": {
   "state": {},
   "version": "1.1.2"
  }
 },
 "nbformat": 4,
 "nbformat_minor": 1
}
