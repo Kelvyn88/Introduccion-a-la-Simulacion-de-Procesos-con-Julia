{
 "cells": [
  {
   "cell_type": "markdown",
   "metadata": {},
   "source": [
    "# Paralelismo\n",
    "Se refiere a utilizar varios procesos al mismo tiempo. Con julia se puede hacer en una sola computadora o distribuido. Para aprovechar los nucleos de procesamiento de tu computadora, es conveniente iniciar Julia un número equivalente de `workers` o trabajadores. En mi caso ese número es 4:\n",
    "```shell\n",
    "julia -p 4\n",
    "```\n",
    "Al igual que una co-rutina, para hacer funcionar a los trabajadores, hay que crear una llamada remota `remotecall()`. Ésta recive la función a processar, y sus argumentos:"
   ]
  },
  {
   "cell_type": "code",
   "execution_count": 2,
   "metadata": {},
   "outputs": [
    {
     "data": {
      "text/plain": [
       "Future(2, 1, 6, Nullable{Any}())"
      ]
     },
     "execution_count": 2,
     "metadata": {},
     "output_type": "execute_result"
    }
   ],
   "source": [
    "addprocs(4)\n",
    "r = remotecall(rand, 2, 2, 2)"
   ]
  },
  {
   "cell_type": "markdown",
   "metadata": {},
   "source": [
    "Para tomar un valor de ésta función, se debe mandar llamar a función `fetch()` con el trabajador de quien se quiere recolectar la información:"
   ]
  },
  {
   "cell_type": "code",
   "execution_count": 3,
   "metadata": {},
   "outputs": [
    {
     "data": {
      "text/plain": [
       "2×2 Array{Float64,2}:\n",
       " 0.776889  0.619507\n",
       " 0.866355  0.326561"
      ]
     },
     "execution_count": 3,
     "metadata": {},
     "output_type": "execute_result"
    }
   ],
   "source": [
    "fetch(r)"
   ]
  },
  {
   "cell_type": "markdown",
   "metadata": {},
   "source": [
    "**NOTA** los trabajadores no tienen acceso al scope global, por lo que es necesario cargar las lbrerías para cáda worker."
   ]
  },
  {
   "cell_type": "code",
   "execution_count": 4,
   "metadata": {},
   "outputs": [
    {
     "ename": "LoadError",
     "evalue": "\u001b[91mOn worker 2:\n\u001b[91mUndefVarError: #rand2 not defined\u001b[39m\ndeserialize_datatype at .\\serialize.jl:969\nhandle_deserialize at .\\serialize.jl:674\ndeserialize at .\\serialize.jl:634\nhandle_deserialize at .\\serialize.jl:681\ndeserialize_global_from_main at .\\distributed\\clusterserialize.jl:153\nforeach at .\\abstractarray.jl:1731\ndeserialize at .\\distributed\\clusterserialize.jl:56\nhandle_deserialize at .\\serialize.jl:723\ndeserialize at .\\serialize.jl:634\nhandle_deserialize at .\\serialize.jl:678\ndeserialize at .\\serialize.jl:634\nhandle_deserialize at .\\serialize.jl:681\ndeserialize_msg at .\\distributed\\messages.jl:98\nmessage_handler_loop at .\\distributed\\process_messages.jl:161\nprocess_tcp_streams at .\\distributed\\process_messages.jl:118\n#99 at .\\event.jl:73\u001b[39m",
     "output_type": "error",
     "traceback": [
      "\u001b[91mOn worker 2:\n\u001b[91mUndefVarError: #rand2 not defined\u001b[39m\ndeserialize_datatype at .\\serialize.jl:969\nhandle_deserialize at .\\serialize.jl:674\ndeserialize at .\\serialize.jl:634\nhandle_deserialize at .\\serialize.jl:681\ndeserialize_global_from_main at .\\distributed\\clusterserialize.jl:153\nforeach at .\\abstractarray.jl:1731\ndeserialize at .\\distributed\\clusterserialize.jl:56\nhandle_deserialize at .\\serialize.jl:723\ndeserialize at .\\serialize.jl:634\nhandle_deserialize at .\\serialize.jl:678\ndeserialize at .\\serialize.jl:634\nhandle_deserialize at .\\serialize.jl:681\ndeserialize_msg at .\\distributed\\messages.jl:98\nmessage_handler_loop at .\\distributed\\process_messages.jl:161\nprocess_tcp_streams at .\\distributed\\process_messages.jl:118\n#99 at .\\event.jl:73\u001b[39m",
      "",
      "Stacktrace:",
      " [1] \u001b[1m#remotecall_fetch#141\u001b[22m\u001b[22m\u001b[1m(\u001b[22m\u001b[22m::Array{Any,1}, ::Function, ::Function, ::Base.Distributed.Worker, ::Base.Distributed.RRID, ::Vararg{Any,N} where N\u001b[1m)\u001b[22m\u001b[22m at \u001b[1m.\\distributed\\remotecall.jl:354\u001b[22m\u001b[22m",
      " [2] \u001b[1mremotecall_fetch\u001b[22m\u001b[22m\u001b[1m(\u001b[22m\u001b[22m::Function, ::Base.Distributed.Worker, ::Base.Distributed.RRID, ::Vararg{Any,N} where N\u001b[1m)\u001b[22m\u001b[22m at \u001b[1m.\\distributed\\remotecall.jl:346\u001b[22m\u001b[22m",
      " [3] \u001b[1m#remotecall_fetch#144\u001b[22m\u001b[22m\u001b[1m(\u001b[22m\u001b[22m::Array{Any,1}, ::Function, ::Function, ::Int64, ::Base.Distributed.RRID, ::Vararg{Any,N} where N\u001b[1m)\u001b[22m\u001b[22m at \u001b[1m.\\distributed\\remotecall.jl:367\u001b[22m\u001b[22m",
      " [4] \u001b[1mremotecall_fetch\u001b[22m\u001b[22m\u001b[1m(\u001b[22m\u001b[22m::Function, ::Int64, ::Base.Distributed.RRID, ::Vararg{Any,N} where N\u001b[1m)\u001b[22m\u001b[22m at \u001b[1m.\\distributed\\remotecall.jl:367\u001b[22m\u001b[22m",
      " [5] \u001b[1mcall_on_owner\u001b[22m\u001b[22m\u001b[1m(\u001b[22m\u001b[22m::Function, ::Future, ::Int64, ::Vararg{Int64,N} where N\u001b[1m)\u001b[22m\u001b[22m at \u001b[1m.\\distributed\\remotecall.jl:440\u001b[22m\u001b[22m",
      " [6] \u001b[1mfetch\u001b[22m\u001b[22m\u001b[1m(\u001b[22m\u001b[22m::Future\u001b[1m)\u001b[22m\u001b[22m at \u001b[1m.\\distributed\\remotecall.jl:466\u001b[22m\u001b[22m",
      " [7] \u001b[1minclude_string\u001b[22m\u001b[22m\u001b[1m(\u001b[22m\u001b[22m::String, ::String\u001b[1m)\u001b[22m\u001b[22m at \u001b[1m.\\loading.jl:515\u001b[22m\u001b[22m"
     ]
    }
   ],
   "source": [
    "function rand2(dims...)\n",
    "    return 2*rand(dims...)\n",
    "end\n",
    "rand2(2,2)\n",
    "fetch(@spawn rand2(2,2))"
   ]
  },
  {
   "cell_type": "markdown",
   "metadata": {},
   "source": [
    "```shell\n",
    "julia -p <n> -L módulo1.jl -L módulo2.jl MiPrograma.jl\n",
    "```"
   ]
  },
  {
   "cell_type": "markdown",
   "metadata": {},
   "source": [
    "# Simulación de montecarlo\n",
    "Modelado a partir de eventos aleatorios."
   ]
  },
  {
   "cell_type": "code",
   "execution_count": 5,
   "metadata": {},
   "outputs": [
    {
     "data": {
      "text/plain": [
       "contar (generic function with 1 method)"
      ]
     },
     "execution_count": 5,
     "metadata": {},
     "output_type": "execute_result"
    }
   ],
   "source": [
    "# en Contar.jl\n",
    "function contar(n)\n",
    "    c::Int = 0\n",
    "    for i=1:n\n",
    "        c += rand(Bool)\n",
    "    end\n",
    "    c\n",
    "end"
   ]
  },
  {
   "cell_type": "code",
   "execution_count": 6,
   "metadata": {},
   "outputs": [
    {
     "ename": "LoadError",
     "evalue": "\u001b[91m\u001b[91mOn worker 2:\n\u001b[91mSystemError: opening file C:\\Users\\Kelvyn\\Dropbox\\Curso JuliaLang\\Simulation-of-Chemical-Processes-JuliaLang\\Notebooks\\01_Introducción - Día 1\\Contar.jl: No such file or directory\u001b[39m\n#systemerror#44 at .\\error.jl:64 [inlined]\nsystemerror at .\\error.jl:64\nopen at .\\iostream.jl:104\nopen at .\\iostream.jl:150\nreadstring at .\\io.jl:541\n#106 at .\\distributed\\process_messages.jl:268 [inlined]\nrun_work_thunk at .\\distributed\\process_messages.jl:56\nmacro expansion at .\\distributed\\process_messages.jl:268 [inlined]\n#105 at .\\event.jl:73\u001b[39m\n#remotecall_fetch#141(::Array{Any,1}, ::Function, ::Function, ::Base.Distributed.Worker, ::Expr, ::Vararg{Expr,N} where N) at .\\distributed\\remotecall.jl:354\nremotecall_fetch(::Function, ::Base.Distributed.Worker, ::Expr, ::Vararg{Expr,N} where N) at .\\distributed\\remotecall.jl:346\n#remotecall_fetch#144(::Array{Any,1}, ::Function, ::Function, ::Int64, ::Expr, ::Vararg{Expr,N} where N) at .\\distributed\\remotecall.jl:367\nremotecall_fetch(::Function, ::Int64, ::Expr, ::Vararg{Expr,N} where N) at .\\distributed\\remotecall.jl:367\n(::##3#5)() at .\\distributed\\macros.jl:102\n\n...and 4 more exception(s).\n\u001b[39m",
     "output_type": "error",
     "traceback": [
      "\u001b[91m\u001b[91mOn worker 2:\n\u001b[91mSystemError: opening file C:\\Users\\Kelvyn\\Dropbox\\Curso JuliaLang\\Simulation-of-Chemical-Processes-JuliaLang\\Notebooks\\01_Introducción - Día 1\\Contar.jl: No such file or directory\u001b[39m\n#systemerror#44 at .\\error.jl:64 [inlined]\nsystemerror at .\\error.jl:64\nopen at .\\iostream.jl:104\nopen at .\\iostream.jl:150\nreadstring at .\\io.jl:541\n#106 at .\\distributed\\process_messages.jl:268 [inlined]\nrun_work_thunk at .\\distributed\\process_messages.jl:56\nmacro expansion at .\\distributed\\process_messages.jl:268 [inlined]\n#105 at .\\event.jl:73\u001b[39m\n#remotecall_fetch#141(::Array{Any,1}, ::Function, ::Function, ::Base.Distributed.Worker, ::Expr, ::Vararg{Expr,N} where N) at .\\distributed\\remotecall.jl:354\nremotecall_fetch(::Function, ::Base.Distributed.Worker, ::Expr, ::Vararg{Expr,N} where N) at .\\distributed\\remotecall.jl:346\n#remotecall_fetch#144(::Array{Any,1}, ::Function, ::Function, ::Int64, ::Expr, ::Vararg{Expr,N} where N) at .\\distributed\\remotecall.jl:367\nremotecall_fetch(::Function, ::Int64, ::Expr, ::Vararg{Expr,N} where N) at .\\distributed\\remotecall.jl:367\n(::##3#5)() at .\\distributed\\macros.jl:102\n\n...and 4 more exception(s).\n\u001b[39m",
      "",
      "Stacktrace:",
      " [1] \u001b[1msync_end\u001b[22m\u001b[22m\u001b[1m(\u001b[22m\u001b[22m\u001b[1m)\u001b[22m\u001b[22m at \u001b[1m.\\task.jl:287\u001b[22m\u001b[22m",
      " [2] \u001b[1mmacro expansion\u001b[22m\u001b[22m at \u001b[1m.\\distributed\\macros.jl:112\u001b[22m\u001b[22m [inlined]",
      " [3] \u001b[1manonymous\u001b[22m\u001b[22m at \u001b[1m.\\<missing>:?\u001b[22m\u001b[22m",
      " [4] \u001b[1minclude_string\u001b[22m\u001b[22m\u001b[1m(\u001b[22m\u001b[22m::String, ::String\u001b[1m)\u001b[22m\u001b[22m at \u001b[1m.\\loading.jl:515\u001b[22m\u001b[22m"
     ]
    }
   ],
   "source": [
    "# En programa principal\n",
    "@everywhere include(\"Contar.jl\")\n",
    "\n",
    "a = @spawn contar(100000000)\n",
    "b = @spawn contar(100000000)\n",
    "fetch(a)+fetch(b) # REDUCCIÓN!"
   ]
  },
  {
   "cell_type": "markdown",
   "metadata": {},
   "source": [
    "Noten que estámos usando únicamente dos workers, cuando la mayoría de nosotros tiene por lo menos cuatro nucleos. El uso generalizado de workers se puede escribir con loops paralelos:"
   ]
  },
  {
   "cell_type": "code",
   "execution_count": null,
   "metadata": {
    "collapsed": true
   },
   "outputs": [],
   "source": [
    "n = @parallel (+) for i=1:200000000 # La reducción se lleva a cabo por la función +\n",
    "  Int(rand(Bool))\n",
    "end"
   ]
  },
  {
   "cell_type": "markdown",
   "metadata": {},
   "source": [
    "# Mapeo en paralelo\n",
    "Hablamos ya de la función `map()` y cómo ésta nos ayuda a mapear una función a un arreglo. Para utilizarla en paralelo, ya que la implementación a bajo nivel es ligeramente distinta, el nombre es `pmap()` (Parallel Maping). Esta función se encarga de organizar a los workers y evita que tengas que realizar llamadas remotas."
   ]
  },
  {
   "cell_type": "code",
   "execution_count": null,
   "metadata": {
    "collapsed": true
   },
   "outputs": [],
   "source": [
    "M = Matrix{Float64}[rand(1000,1000) for i=1:10]\n",
    "pmap(svd, M)"
   ]
  },
  {
   "cell_type": "markdown",
   "metadata": {},
   "source": [
    "Eviten usar arreglos dentro de un ciclo for paralelizado, pues [normalmente](http://docs.julialang.org/en/release-0.5/manual/parallel-computing.html#shared-arrays) los arreglos no son compartidos entre trabajadores."
   ]
  },
  {
   "cell_type": "code",
   "execution_count": null,
   "metadata": {
    "collapsed": true
   },
   "outputs": [],
   "source": [
    "a = SharedArray(Float64,10)\n",
    "@parallel for i=1:10\n",
    "  a[i] = i # NOT\n",
    "end"
   ]
  },
  {
   "cell_type": "markdown",
   "metadata": {},
   "source": [
    "# Clusters\n",
    "Julia puede ser iniciado en paralelo con la opción `--machinefile` que lanzará un trabajador por cada linea en el archivo indicado. Las máquinas definidas en el archivo deben estár accesibles por medio de SSH sin contraseña, y tener julia instalado. El archivo de definición de máquinas debe tener los siguientes campos:\n",
    "```shell\n",
    "[count*][user@]host[:port] [bind_addr[:port]] \n",
    "```\n",
    "Dónde:\n",
    "- `user` tiene por default el mismo usuario que el acutal\n",
    "- `port` es el puerto default de SSH (22)\n",
    "- `count` es el número de workers a trabajar en el nódo (default 1)\n",
    "- La opción `bind_addr[:port]` especifica la ip y puerto a la que otros workers deben entrar para conectarse con el actual.\n",
    "\n",
    "A darle! :)\n"
   ]
  }
 ],
 "metadata": {
  "kernelspec": {
   "display_name": "Julia 0.6.0",
   "language": "julia",
   "name": "julia-0.6"
  },
  "language_info": {
   "file_extension": ".jl",
   "mimetype": "application/julia",
   "name": "julia",
   "version": "0.6.0"
  },
  "widgets": {
   "state": {},
   "version": "1.1.2"
  }
 },
 "nbformat": 4,
 "nbformat_minor": 2
}
