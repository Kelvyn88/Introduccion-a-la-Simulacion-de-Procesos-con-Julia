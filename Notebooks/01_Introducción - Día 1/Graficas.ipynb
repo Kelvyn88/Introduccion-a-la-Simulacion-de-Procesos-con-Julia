{
 "cells": [
  {
   "cell_type": "code",
   "execution_count": 1,
   "metadata": {},
   "outputs": [
    {
     "data": {
      "text/plain": [
       "Plots.PyPlotBackend()"
      ]
     },
     "execution_count": 1,
     "metadata": {},
     "output_type": "execute_result"
    }
   ],
   "source": [
    "using Plots\n",
    "using LaTeXStrings\n",
    "pyplot()"
   ]
  },
  {
   "cell_type": "code",
   "execution_count": 20,
   "metadata": {},
   "outputs": [],
   "source": [
    "p1=plot(1:100,1:2:200,xlabel=L\"P_{sat}\",\n",
    "    title=L\"Gráfica\\hspace{3}1\",ylabel=L\"Log_{10}P_{sat}=A-\\frac{B}{C-T}\",\n",
    "    linewidth=2,lc=\"green\", label=L\"\\frac{dy_1}{dt}\")\n",
    "plot!(1:100,1:3:300, lc=\"gray\", lw=2, label=L\"\\frac{dy_2}{dt}\")\n",
    "savefig(p1,\"Figura1\")"
   ]
  },
  {
   "cell_type": "code",
   "execution_count": null,
   "metadata": {
    "collapsed": true
   },
   "outputs": [],
   "source": []
  }
 ],
 "metadata": {
  "kernelspec": {
   "display_name": "Julia 0.6.0",
   "language": "julia",
   "name": "julia-0.6"
  },
  "language_info": {
   "file_extension": ".jl",
   "mimetype": "application/julia",
   "name": "julia",
   "version": "0.6.0"
  }
 },
 "nbformat": 4,
 "nbformat_minor": 2
}
