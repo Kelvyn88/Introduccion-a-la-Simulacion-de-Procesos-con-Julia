{
 "cells": [
  {
   "cell_type": "code",
   "execution_count": 1,
   "metadata": {},
   "outputs": [
    {
     "data": {
      "text/plain": [
       "antoine"
      ]
     },
     "execution_count": 1,
     "metadata": {},
     "output_type": "execute_result"
    }
   ],
   "source": [
    "\"\"\"\n",
    "Función que resuelve la ecuación de Antoine. \n",
    "Entrega temperatura de saturación ó presión de saturación.\n",
    "Usa diferentes componente: Water y Ethanol al momento.\n",
    "T=°C, P = mmHg\n",
    "\"\"\"\n",
    "function antoine(;componente=\"Water\",T=50,P=700,test=\"T\")\n",
    "    datos=Dict(\"Water\"=>[8.07131,1730.63,233.426],\"Ethanol\"=>[8.20417,1642.89,230.3])\n",
    "    \n",
    "    try\n",
    "        A,B,C=datos[componente]\n",
    "        \n",
    "        if test==\"T\"\n",
    "            T = B/(A - log10(P)) - C\n",
    "        elseif test==\"P\"\n",
    "            P = 10^(A - B/(C+T))\n",
    "        else\n",
    "           println(\"No existe el método: $(test)\") \n",
    "        end\n",
    "    catch\n",
    "        println(\"No existe el componente: $(componente)\")\n",
    "    end\n",
    "end"
   ]
  },
  {
   "cell_type": "code",
   "execution_count": 3,
   "metadata": {},
   "outputs": [
    {
     "data": {
      "text/plain": [
       "760.0863691649309"
      ]
     },
     "execution_count": 3,
     "metadata": {},
     "output_type": "execute_result"
    }
   ],
   "source": [
    "antoine(componente=\"Water\",test=\"P\",T=100)"
   ]
  },
  {
   "cell_type": "code",
   "execution_count": null,
   "metadata": {
    "collapsed": true
   },
   "outputs": [],
   "source": [
    "log10"
   ]
  }
 ],
 "metadata": {
  "kernelspec": {
   "display_name": "Julia 0.6.0",
   "language": "julia",
   "name": "julia-0.6"
  },
  "language_info": {
   "file_extension": ".jl",
   "mimetype": "application/julia",
   "name": "julia",
   "version": "0.6.0"
  }
 },
 "nbformat": 4,
 "nbformat_minor": 2
}
