{
 "cells": [
  {
   "cell_type": "markdown",
   "metadata": {},
   "source": [
    "# Trabajar con archivos\n",
    "Julia permite acceder al sitema de archivos por medio una función en especifico: `open()`. De ahí podemos leer con las funciones `read()` o `readlines()`. Siempre es necesario cerrar los archivos que abrimos. Para ésto existe la función `close()`. Por úlmito, se puede usar un bloque de código `do`-`end` para abrir un archivo."
   ]
  },
  {
   "cell_type": "code",
   "execution_count": null,
   "metadata": {
    "collapsed": true
   },
   "outputs": [],
   "source": [
    "open(\"00\\ Introducción\\ (Presentación).ipynb\") do f\n",
    "    for line in readlines(f)\n",
    "        println(line)\n",
    "    end\n",
    "end"
   ]
  },
  {
   "cell_type": "markdown",
   "metadata": {},
   "source": [
    "# Módulos\n",
    "La forma de mantener el proyecto de Julia de manera sustentable es hacerlo modular. Es decir, crear pequeños conjuntos de código que se puedan desarrollar, probar y mantener facilmente. Esto se hace mediante bloques de código llamados `module`. Éstos contienen funciones, variables, y constantes que cumplen un mismo fin. El ejemplo más sencillo es un módulo solamente con variables."
   ]
  },
  {
   "cell_type": "code",
   "execution_count": null,
   "metadata": {
    "collapsed": false
   },
   "outputs": [],
   "source": [
    "module MyModule\n",
    "\n",
    "export x, y\n",
    "\n",
    "a = 1\n",
    "x = a\n",
    "y = a+1\n",
    "\n",
    "\n",
    "end"
   ]
  },
  {
   "cell_type": "markdown",
   "metadata": {},
   "source": [
    "Para utilizar un módulo puedes importar todos sus `export`s con la palabra reservada `using`."
   ]
  },
  {
   "cell_type": "code",
   "execution_count": null,
   "metadata": {
    "collapsed": true
   },
   "outputs": [],
   "source": [
    "using MyModule"
   ]
  },
  {
   "cell_type": "code",
   "execution_count": null,
   "metadata": {
    "collapsed": false
   },
   "outputs": [],
   "source": [
    "x"
   ]
  },
  {
   "cell_type": "code",
   "execution_count": null,
   "metadata": {
    "collapsed": false
   },
   "outputs": [],
   "source": [
    "y"
   ]
  },
  {
   "cell_type": "markdown",
   "metadata": {},
   "source": [
    "Es recomendable escribir un módulo por archivo, o si necesitas, varios archivos para el mísmo múdulo, pero nunca varios módulos en un mismo archivo. Los archivos deben llevar la terminación `.jl` y pueden ser incluídos al archivo actual, para usar los módulos que éste contiene."
   ]
  },
  {
   "cell_type": "markdown",
   "metadata": {},
   "source": [
    "# Paquetes\n",
    "Cuando la comunidad crea un módulo útil, lo [publican](http://docs.julialang.org/en/release-0.5/manual/packages.html#making-your-package-available) en github. De ésta forma tu puedes acceder a una cantidad constantemente creciente de paquetes para cómuputo técnico.\n",
    "\n",
    "El módulo encargado de manejar paquetes se llama `Pkg` y ya lo han usado para instalar `IJulia`. \n",
    "\n",
    "Los comandos más comúnes son:\n",
    "\n",
    "- `Pkg.init()`: Usado para inicializar el sistema de paquetería.\n",
    "- `Pkg.add()`: Se usa para agregar paquetes, recive como argumento una cadena con el nombre del paquete.\n",
    "- `Pkg.update()`: Utilizado para actualizar la paquetería. Usalo a diario ;)\n",
    "- `Pkg.rm()`: Recive una cadena con el nombre de un paquete que desees remover.\n",
    "\n",
    "Una lista con todos los paquetes disponibles atravez de `Pkg` se encuentra en http://pkg.julialang.org/\n",
    "Por ahora instalaremos `Gadfly` una librería de gráficos."
   ]
  },
  {
   "cell_type": "code",
   "execution_count": null,
   "metadata": {
    "collapsed": false
   },
   "outputs": [],
   "source": [
    "Pkg.add(\"Gadfly\")"
   ]
  },
  {
   "cell_type": "markdown",
   "metadata": {},
   "source": [
    "Gadfly es una librería hecha en Jula para graficar datos. Puedes encontrar más información en la página de su documentación: http://gadflyjl.org/stable/"
   ]
  },
  {
   "cell_type": "code",
   "execution_count": null,
   "metadata": {
    "collapsed": false
   },
   "outputs": [],
   "source": [
    "using Gadfly\n",
    "plot(x=rand(10), y=rand(10))"
   ]
  },
  {
   "cell_type": "markdown",
   "metadata": {},
   "source": [
    "Cuando dos módulos exportan el mismo método para la misma función, existe un error de colisión de nombres. Por ejemplo; instalemos el paquete `Plots`, un sistema de manejo de librerías para graficar."
   ]
  },
  {
   "cell_type": "code",
   "execution_count": null,
   "metadata": {
    "collapsed": false
   },
   "outputs": [],
   "source": [
    "using Plots"
   ]
  },
  {
   "cell_type": "code",
   "execution_count": null,
   "metadata": {
    "collapsed": true
   },
   "outputs": [],
   "source": [
    "plot(rand(10),rand(10))"
   ]
  }
 ],
 "metadata": {
  "kernelspec": {
   "display_name": "Julia 0.5.0",
   "language": "julia",
   "name": "julia-0.5"
  },
  "language_info": {
   "file_extension": ".jl",
   "mimetype": "application/julia",
   "name": "julia",
   "version": "0.5.0"
  },
  "widgets": {
   "state": {},
   "version": "1.1.2"
  }
 },
 "nbformat": 4,
 "nbformat_minor": 2
}
