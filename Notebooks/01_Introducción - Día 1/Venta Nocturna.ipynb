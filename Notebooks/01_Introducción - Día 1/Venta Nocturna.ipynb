{
 "cells": [
  {
   "cell_type": "code",
   "execution_count": 1,
   "metadata": {},
   "outputs": [
    {
     "data": {
      "text/plain": [
       "cobrar (generic function with 1 method)"
      ]
     },
     "execution_count": 1,
     "metadata": {},
     "output_type": "execute_result"
    }
   ],
   "source": [
    "function cobrar()\n",
    "    println(\"================================\")\n",
    "    println(\" Bienvenido al sistema de cobro\")\n",
    "    println(\"================================\")\n",
    "    sleep(0.2)\n",
    "    \n",
    "    estado1 = 0\n",
    "    while estado1 == 0\n",
    "        costo = IJulia.readprompt(\"Costo del artículo: \\$ \")\n",
    "        \n",
    "        if all(isnumber,costo)\n",
    "            costo = parse(Float64,costo)\n",
    "            estado1 = 1\n",
    "            \n",
    "            if costo <= 1000\n",
    "                println(\"================================\")\n",
    "                println(\"Pago en efectivo.\")\n",
    "                println(\"================================\")\n",
    "            elseif costo >= 1000\n",
    "                println(\"================================\")\n",
    "                \n",
    "                for i=1:6\n",
    "                    println(\"[$(i)]. $(i*3) meses sin intereses\")\n",
    "                end  \n",
    "                \n",
    "                println(\"================================\")\n",
    "                \n",
    "                estado2 = 0\n",
    "                while estado2 == 0\n",
    "                    opt = IJulia.readprompt(\"Elija una opción:\")\n",
    "        \n",
    "                    if all(isnumber,opt)\n",
    "                        opt = parse(Float64,opt)\n",
    "                        \n",
    "                        if opt <= 6\n",
    "                            println(\"================================\")\n",
    "                            @printf \"Usted debe pagar:\\n\"\n",
    "                            @printf \"%i meses de \\$ %2.2f\\n\" opt*3 costo/(opt*4)\n",
    "                            estado2 = 1\n",
    "                        else\n",
    "                            print_with_color(:red,\"¡Opción invalida!\\n\")\n",
    "                        end\n",
    "                    else\n",
    "                        print_with_color(:red,\"¡Opción invalida!\\n\")\n",
    "                    end\n",
    "                end\n",
    "            end\n",
    "        else\n",
    "            print_with_color(:red,\"¡Ingresa una cantidad numerica o positiva!\\n\")\n",
    "        end\n",
    "    end        \n",
    "end"
   ]
  },
  {
   "cell_type": "code",
   "execution_count": 2,
   "metadata": {},
   "outputs": [
    {
     "name": "stdout",
     "output_type": "stream",
     "text": [
      "================================\n",
      " Bienvenido al sistema de cobro\n",
      "================================\n",
      "Costo del artículo: $ 9000\n",
      "================================\n",
      "[1]. 3 meses sin intereses\n",
      "[2]. 6 meses sin intereses\n",
      "[3]. 9 meses sin intereses\n",
      "[4]. 12 meses sin intereses\n",
      "[5]. 15 meses sin intereses\n",
      "[6]. 18 meses sin intereses\n",
      "================================\n",
      "Elija una opción:6\n",
      "================================\n",
      "Usted debe pagar:\n",
      "18 meses de $ 375.00\n"
     ]
    }
   ],
   "source": [
    "cobrar()"
   ]
  },
  {
   "cell_type": "code",
   "execution_count": null,
   "metadata": {
    "collapsed": true
   },
   "outputs": [],
   "source": []
  }
 ],
 "metadata": {
  "kernelspec": {
   "display_name": "Julia 0.6.0",
   "language": "julia",
   "name": "julia-0.6"
  },
  "language_info": {
   "file_extension": ".jl",
   "mimetype": "application/julia",
   "name": "julia",
   "version": "0.6.0"
  }
 },
 "nbformat": 4,
 "nbformat_minor": 2
}
