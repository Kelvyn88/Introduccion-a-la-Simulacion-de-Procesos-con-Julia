{
 "cells": [
  {
   "cell_type": "markdown",
   "metadata": {},
   "source": [
    "# Macros\n",
    "Los mácros son técnicas de metaprogramación que permiten dar un contexto de ejecución al código de un programa. Son faciles de reconocer pues empiezan siempre con un `@`. Por ahora nos concentraremos solamente en utilizarlos."
   ]
  },
  {
   "cell_type": "code",
   "execution_count": 2,
   "metadata": {},
   "outputs": [
    {
     "name": "stdout",
     "output_type": "stream",
     "text": [
      "  0.085074 seconds (20.35 k allocations: 1.149 MiB)\n"
     ]
    }
   ],
   "source": [
    "@time [i^2 for i in 1:2^10 if i%2==0]; # Lista de comprensión condicional"
   ]
  },
  {
   "cell_type": "code",
   "execution_count": 3,
   "metadata": {},
   "outputs": [
    {
     "name": "stdout",
     "output_type": "stream",
     "text": [
      "  0.176592 seconds (20.35 k allocations: 1.150 MiB)\n",
      "179481600\n",
      "  0.067916 seconds (23.69 k allocations: 1.308 MiB)\n",
      "179481600\n"
     ]
    }
   ],
   "source": [
    "println(@time sum([i^2 for i in 1:2^10 if i%2==0]);)\n",
    "println(@time sum(i^2 for i in 1:2^10 if i%2==0);)"
   ]
  },
  {
   "cell_type": "markdown",
   "metadata": {},
   "source": [
    "# Compilador e Interprete\n",
    "Un compilador es el programa que traduce código fuente a lenguaje de máquina. Un interprete hace una interpretación instantanea de un lenguaje de programación y produce una respuesta inmediata. El código de máquina generado por un compilador puede ser guardado y conservado para despues, mientras que un interprete solo puede producir comportamiento instantaneo.\n",
    "\n",
    "Julia, a pesar de parecer un lenguaje interpretado, por su interactividad, es un lenguaje compilado, su compilador es nombrado JIT (Just in Time) ya que provee código de máquina instantaneamente. Si deseas crear executables puedes revisar el siguiente link: http://juliacomputing.com/blog/2016/02/09/static-julia.html"
   ]
  },
  {
   "cell_type": "markdown",
   "metadata": {},
   "source": [
    "# Alto desempeño\n",
    "(Gracias a Ismael Villegas Castelló por éste ejemplo)\n",
    "El alto desempeño en Julia se debe a su especialización en cada tarea. Para verlo más a fondo utilizaremos la siguiente función:"
   ]
  },
  {
   "cell_type": "code",
   "execution_count": 4,
   "metadata": {},
   "outputs": [
    {
     "data": {
      "text/plain": [
       "test (generic function with 1 method)"
      ]
     },
     "execution_count": 4,
     "metadata": {},
     "output_type": "execute_result"
    }
   ],
   "source": [
    "g() = 10_000_000 \n",
    "function test()                                             \n",
    "    i = 0                                                   \n",
    "        while i < 10_000_000                                    \n",
    "            i += 1                                              \n",
    "        end                                                     \n",
    "    return i                                                \n",
    "end  "
   ]
  },
  {
   "cell_type": "markdown",
   "metadata": {},
   "source": [
    "Es posible ver la especialicación en las tareas con la ayuda de los siguientes macros:"
   ]
  },
  {
   "cell_type": "markdown",
   "metadata": {},
   "source": [
    "## `@code_lowered` \n",
    "Código bajado, es decir parseado y aplicado el primer pase del compilador."
   ]
  },
  {
   "cell_type": "code",
   "execution_count": 5,
   "metadata": {},
   "outputs": [
    {
     "data": {
      "text/plain": [
       "CodeInfo(:(begin \n",
       "        nothing\n",
       "        i = 0 # line 4:\n",
       "        4: \n",
       "        unless i < 10000000 goto 10 # line 5:\n",
       "        i = i + 1\n",
       "        8: \n",
       "        goto 4\n",
       "        10:  # line 7:\n",
       "        return i\n",
       "    end))"
      ]
     },
     "execution_count": 5,
     "metadata": {},
     "output_type": "execute_result"
    }
   ],
   "source": [
    "@code_lowered test()"
   ]
  },
  {
   "cell_type": "markdown",
   "metadata": {},
   "source": [
    "## `@code_typed` \n",
    "Código bajado y con anotaciones de tipos, por medio de la inferencia automática de tipos, en otro pase del compilador."
   ]
  },
  {
   "cell_type": "code",
   "execution_count": 6,
   "metadata": {},
   "outputs": [
    {
     "data": {
      "text/plain": [
       "CodeInfo(:(begin \n",
       "        i = 0 # line 4:\n",
       "        3: \n",
       "        unless (Base.slt_int)(i, 10000000)::Bool goto 9 # line 5:\n",
       "        i = (Base.add_int)(i, 1)::Int64\n",
       "        7: \n",
       "        goto 3\n",
       "        9:  # line 7:\n",
       "        return i\n",
       "    end))=>Int64"
      ]
     },
     "execution_count": 6,
     "metadata": {},
     "output_type": "execute_result"
    }
   ],
   "source": [
    "@code_typed test()"
   ]
  },
  {
   "cell_type": "markdown",
   "metadata": {},
   "source": [
    "## `@code_llvm` \n",
    "Código convertido a LLVM IR (Representación Intermedia de la Máquina Virtual de Bajo Nivel. Esto es homologo a un bytecode, sin embargo es de bajo nivel, o dicho de otra manera es una especie de ensamblador de alto nivel. Desde este nivel, podemos ver que el bucle ya ha sido eliminado completamente."
   ]
  },
  {
   "cell_type": "code",
   "execution_count": 7,
   "metadata": {},
   "outputs": [
    {
     "name": "stdout",
     "output_type": "stream",
     "text": [
      "\n",
      "; Function Attrs: uwtable\n",
      "define i64 @julia_test_62033() #0 !dbg !5 {\n",
      "top:\n",
      "  ret i64 10000000\n",
      "}\n"
     ]
    }
   ],
   "source": [
    "@code_llvm test()"
   ]
  },
  {
   "cell_type": "markdown",
   "metadata": {},
   "source": [
    "# `@code_native`\n",
    "Finalmente el código generado en ensamblador, el cual posteriormente es compilado a código binario nativo, especifico al procesador donde se ejecutará. Éste es el ultimo paso que podemos ver."
   ]
  },
  {
   "cell_type": "code",
   "execution_count": 8,
   "metadata": {},
   "outputs": [
    {
     "name": "stdout",
     "output_type": "stream",
     "text": [
      "\t.text\n",
      "Filename: In[4]\n",
      "\tpushq\t%rbp\n",
      "\tmovq\t%rsp, %rbp\n",
      "Source line: 7\n",
      "\tmovl\t$10000000, %eax         # imm = 0x989680\n",
      "\tpopq\t%rbp\n",
      "\tretq\n",
      "\tnopl\t(%rax,%rax)\n"
     ]
    }
   ],
   "source": [
    "@code_native test()"
   ]
  },
  {
   "cell_type": "code",
   "execution_count": 9,
   "metadata": {},
   "outputs": [
    {
     "name": "stdout",
     "output_type": "stream",
     "text": [
      "\t.text\n",
      "Filename: In[4]\n",
      "\tpushq\t%rbp\n",
      "\tmovq\t%rsp, %rbp\n",
      "Source line: 1\n",
      "\tmovl\t$10000000, %eax         # imm = 0x989680\n",
      "\tpopq\t%rbp\n",
      "\tretq\n",
      "\tnopl\t(%rax,%rax)\n"
     ]
    }
   ],
   "source": [
    "@code_native g()"
   ]
  },
  {
   "cell_type": "markdown",
   "metadata": {},
   "source": [
    "# Medición de Rendimiento\n",
    "Además del funcional y rápido macro `@time`, existe un paquete que nos permite medir con precisión los tiempos de trabajo de Julia: [`BenchmarkTools`](https://github.com/JuliaCI/BenchmarkTools.jl/blob/master/doc/manual.md):"
   ]
  },
  {
   "cell_type": "code",
   "execution_count": 12,
   "metadata": {},
   "outputs": [
    {
     "data": {
      "text/plain": [
       "BenchmarkTools.Trial: \n",
       "  memory estimate:  0 bytes\n",
       "  allocs estimate:  0\n",
       "  --------------\n",
       "  minimum time:     3.020 ns (0.00% GC)\n",
       "  median time:      3.398 ns (0.00% GC)\n",
       "  mean time:        3.753 ns (0.00% GC)\n",
       "  maximum time:     855.221 ns (0.00% GC)\n",
       "  --------------\n",
       "  samples:          10000\n",
       "  evals/sample:     1000"
      ]
     },
     "execution_count": 12,
     "metadata": {},
     "output_type": "execute_result"
    }
   ],
   "source": [
    "using BenchmarkTools\n",
    "@benchmark test()"
   ]
  },
  {
   "cell_type": "markdown",
   "metadata": {},
   "source": [
    "# Mejorar rendimiento\n",
    "Julia es sencillo de usar, pero para mejorar rendimiento es útil seguir algunas recomendaciones:"
   ]
  },
  {
   "cell_type": "markdown",
   "metadata": {},
   "source": [
    "- Al cargar un script, estás cargando el compilador de Julia, por lo que puede tardar en comenzar."
   ]
  },
  {
   "cell_type": "markdown",
   "metadata": {},
   "source": [
    "- Si quieres mejorar rendimiento de una función, encapsulala en un módulo y deja que Julia la precompile."
   ]
  },
  {
   "cell_type": "markdown",
   "metadata": {},
   "source": [
    "- Jupyter y la terminal son para probar ideas. Si vas a trabajar, trabaja en scripts."
   ]
  },
  {
   "cell_type": "markdown",
   "metadata": {},
   "source": [
    "- Usa funciones: No dejes procesos en el scope global."
   ]
  },
  {
   "cell_type": "markdown",
   "metadata": {},
   "source": [
    "- Revisa la especialización de tus tipos."
   ]
  },
  {
   "cell_type": "markdown",
   "metadata": {},
   "source": [
    "- Deja que Julia \"caliente\". El compilador tiene que compilar tu código la primera vez que es ejecutado. Despues usará el código nativo."
   ]
  },
  {
   "cell_type": "markdown",
   "metadata": {},
   "source": [
    "- Especifica tipos. Evita los arreglos de tipo `Any` y los flotantes cuando solo necesitas enteros."
   ]
  },
  {
   "cell_type": "markdown",
   "metadata": {},
   "source": [
    "- Revisa tus tipos. Utiliza el macro `@code_warntype` para evitar usar variables de tipo inespecifico."
   ]
  },
  {
   "cell_type": "code",
   "execution_count": 13,
   "metadata": {},
   "outputs": [
    {
     "name": "stdout",
     "output_type": "stream",
     "text": [
      "Variables:\n",
      "  #self#::#f\n",
      "  x::Float64\n",
      "  y\u001b[1m\u001b[91m::Union{Float64, Int64}\u001b[39m\u001b[22m\n",
      "  fy::Float64\n",
      "  #temp#@_5\u001b[1m\u001b[91m::Union{Float64, Int64}\u001b[39m\u001b[22m\n",
      "  #temp#@_6::Core.MethodInstance\n",
      "  #temp#@_7::Float64\n",
      "  #temp#@_8::Float64\n",
      "\n",
      "Body:\n",
      "  begin \n",
      "      $(Expr(:inbounds, false))\n",
      "      # meta: location In[13] pos 1\n",
      "      # meta: location float.jl < 491\n",
      "      fy::Float64 = (Base.sitofp)(Float64, 0)::Float64\n",
      "      # meta: pop location\n",
      "      unless (Base.or_int)((Base.lt_float)(x::Float64, fy::Float64)::Bool, (Base.and_int)((Base.and_int)((Base.eq_float)(x::Float64, fy::Float64)::Bool, (Base.lt_float)(fy::Float64, 9.223372036854776e18)::Bool)::Bool, (Base.slt_int)((Base.fptosi)(Int64, fy::Float64)::Int64, 0)::Bool)::Bool)::Bool goto 9\n",
      "      #temp#@_5\u001b[1m\u001b[91m::Union{Float64, Int64}\u001b[39m\u001b[22m = 0\n",
      "      goto 11\n",
      "      9: \n",
      "      #temp#@_5\u001b[1m\u001b[91m::Union{Float64, Int64}\u001b[39m\u001b[22m = x::Float64\n",
      "      11: \n",
      "      # meta: pop location\n",
      "      $(Expr(:inbounds, :pop))\n",
      "      y\u001b[1m\u001b[91m::Union{Float64, Int64}\u001b[39m\u001b[22m = #temp#@_5\u001b[1m\u001b[91m::Union{Float64, Int64}\u001b[39m\u001b[22m # line 5:\n",
      "      unless (y\u001b[1m\u001b[91m::Union{Float64, Int64}\u001b[39m\u001b[22m isa Int64)::Bool goto 19\n",
      "      #temp#@_6::Core.MethodInstance = MethodInstance for *(::Int64, ::Float64)\n",
      "      goto 28\n",
      "      19: \n",
      "      unless (y\u001b[1m\u001b[91m::Union{Float64, Int64}\u001b[39m\u001b[22m isa Float64)::Bool goto 23\n",
      "      #temp#@_6::Core.MethodInstance = MethodInstance for *(::Float64, ::Float64)\n",
      "      goto 28\n",
      "      23: \n",
      "      goto 25\n",
      "      25: \n",
      "      #temp#@_7::Float64 = (y\u001b[1m\u001b[91m::Union{Float64, Int64}\u001b[39m\u001b[22m * x::Float64)::Float64\n",
      "      goto 30\n",
      "      28: \n",
      "      #temp#@_7::Float64 = $(Expr(:invoke, :(#temp#@_6), :(Main.*), :(y), :(x)))\n",
      "      30: \n",
      "      SSAValue(0) = (Base.add_float)(#temp#@_7::Float64, (Base.sitofp)(Float64, 1)::Float64)::Float64\n",
      "      $(Expr(:inbounds, false))\n",
      "      # meta: location math.jl sin 419\n",
      "      SSAValue(2) = $(Expr(:foreigncall, (\"sin\", \"libopenlibm\"), Float64, svec(Float64), SSAValue(0), 0))\n",
      "      # meta: location math.jl nan_dom_err 300\n",
      "      unless (Base.and_int)((Base.ne_float)(SSAValue(2), SSAValue(2))::Bool, (Base.not_int)((Base.ne_float)(SSAValue(0), SSAValue(0))::Bool)::Bool)::Bool goto 39\n",
      "      #temp#@_8::Float64 = (Base.Math.throw)($(QuoteNode(DomainError())))\u001b[1m\u001b[91m::Union{}\u001b[39m\u001b[22m\n",
      "      goto 41\n",
      "      39: \n",
      "      #temp#@_8::Float64 = SSAValue(2)\n",
      "      41: \n",
      "      # meta: pop location\n",
      "      # meta: pop location\n",
      "      $(Expr(:inbounds, :pop))\n",
      "      return #temp#@_8::Float64\n",
      "  end::Float64\n"
     ]
    }
   ],
   "source": [
    "pos(x) = x < 0 ? 0 : x\n",
    "\n",
    "function f(x)\n",
    "    y = pos(x)\n",
    "    sin(y*x+1)\n",
    "end\n",
    "\n",
    "@code_warntype f(3.2)"
   ]
  },
  {
   "cell_type": "code",
   "execution_count": 14,
   "metadata": {
    "collapsed": true
   },
   "outputs": [],
   "source": [
    "funcA() = sum([i^2 for i in 1:10000 if i%2==0]);\n",
    "funcB() = sum(i^2 for i in 1:10000 if i%2==0);"
   ]
  },
  {
   "cell_type": "code",
   "execution_count": 15,
   "metadata": {},
   "outputs": [
    {
     "name": "stdout",
     "output_type": "stream",
     "text": [
      "  0.083004 seconds (20.35 k allocations: 1.653 MiB)\n",
      "166716670000\n",
      "  0.078817 seconds (23.68 k allocations: 1.307 MiB)\n",
      "166716670000\n",
      "  0.069434 seconds (24.55 k allocations: 1.507 MiB)\n",
      "166716670000\n",
      "  0.065371 seconds (24.26 k allocations: 1.341 MiB)\n",
      "166716670000\n"
     ]
    }
   ],
   "source": [
    "println(@time sum([i^2 for i in 1:10000 if i%2==0]);)\n",
    "println(@time sum(i^2 for i in 1:10000 if i%2==0);)\n",
    "println(@time funcA();)\n",
    "println(@time funcB();)"
   ]
  },
  {
   "cell_type": "code",
   "execution_count": 17,
   "metadata": {},
   "outputs": [
    {
     "name": "stdout",
     "output_type": "stream",
     "text": [
      "  0.000161 seconds (9.98 k allocations: 155.984 KiB)\n"
     ]
    }
   ],
   "source": [
    "@time begin\n",
    "    s=0\n",
    "    for i in 1:10000\n",
    "        if i%2==0\n",
    "            s+=i^2\n",
    "        end\n",
    "    end\n",
    "end"
   ]
  },
  {
   "cell_type": "code",
   "execution_count": null,
   "metadata": {
    "collapsed": true
   },
   "outputs": [],
   "source": []
  },
  {
   "cell_type": "code",
   "execution_count": null,
   "metadata": {
    "collapsed": true
   },
   "outputs": [],
   "source": []
  }
 ],
 "metadata": {
  "kernelspec": {
   "display_name": "Julia 0.6.0",
   "language": "julia",
   "name": "julia-0.6"
  },
  "language_info": {
   "file_extension": ".jl",
   "mimetype": "application/julia",
   "name": "julia",
   "version": "0.6.0"
  },
  "widgets": {
   "state": {},
   "version": "1.1.2"
  }
 },
 "nbformat": 4,
 "nbformat_minor": 2
}
