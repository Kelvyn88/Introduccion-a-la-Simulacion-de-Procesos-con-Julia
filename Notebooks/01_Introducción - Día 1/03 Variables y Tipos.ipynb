{
 "cells": [
  {
   "cell_type": "markdown",
   "metadata": {
    "collapsed": true
   },
   "source": [
    "# Variables\n",
    "Una variable es el nombre asociado a un valor. En la libreta anterior asociamos valores encadenados a un nombre: `str`\n",
    "Las variables así como las cadenas pueden contener caractéres unicode:"
   ]
  },
  {
   "cell_type": "code",
   "execution_count": null,
   "metadata": {
    "collapsed": true
   },
   "outputs": [],
   "source": [
    "α² = \"alfa cuadrado\""
   ]
  },
  {
   "cell_type": "markdown",
   "metadata": {},
   "source": [
    "Es importante tener cuidado al utilizar nombres ya utilizados, pues el valor de las variables se sobre-escribe:"
   ]
  },
  {
   "cell_type": "code",
   "execution_count": null,
   "metadata": {
    "collapsed": true
   },
   "outputs": [],
   "source": [
    "println(sqrt(100))\n",
    "sqrt = 2"
   ]
  },
  {
   "cell_type": "code",
   "execution_count": null,
   "metadata": {
    "collapsed": true
   },
   "outputs": [],
   "source": [
    "sqrt(100)"
   ]
  },
  {
   "cell_type": "code",
   "execution_count": null,
   "metadata": {
    "collapsed": true
   },
   "outputs": [],
   "source": [
    "sqrt = Base.sqrt"
   ]
  },
  {
   "cell_type": "code",
   "execution_count": null,
   "metadata": {
    "collapsed": true
   },
   "outputs": [],
   "source": [
    "sqrt(2)"
   ]
  },
  {
   "cell_type": "markdown",
   "metadata": {},
   "source": [
    "Para convenciones y estílos leer:\n",
    "http://docs.julialang.org/en/release-0.5/manual/variables/"
   ]
  },
  {
   "cell_type": "markdown",
   "metadata": {},
   "source": [
    "# Tipos\n",
    "Como ya comentamos, el systema de tipado de Julia es una de las herramientas claves del lenguaje. Aunque no es necesario que le demos un tipo a todo (ya que Julia infiere inteligentemente los tipos) el tipo de cada variable puede ser \"anotado\" agregandolo después de su nombre y dos \"dos puntos\" (:)"
   ]
  },
  {
   "cell_type": "code",
   "execution_count": 1,
   "metadata": {},
   "outputs": [
    {
     "data": {
      "text/plain": [
       "1"
      ]
     },
     "execution_count": 1,
     "metadata": {},
     "output_type": "execute_result"
    }
   ],
   "source": [
    "1::Int"
   ]
  },
  {
   "cell_type": "markdown",
   "metadata": {},
   "source": [
    "Este es simplemente un sistema de filtro que indica al compilador cómo debe de tratar a un número o variable. Si el número o variable no corresponden con la anotación, Julia manda un error:"
   ]
  },
  {
   "cell_type": "code",
   "execution_count": null,
   "metadata": {
    "collapsed": true
   },
   "outputs": [],
   "source": [
    "1.1::Int"
   ]
  },
  {
   "cell_type": "markdown",
   "metadata": {},
   "source": [
    "### Uniones\n",
    "También es posible crear uniones de tipos: filtros que dejaran pasar cualquiera de los tipos que pertenescan a su conjunto:"
   ]
  },
  {
   "cell_type": "code",
   "execution_count": 2,
   "metadata": {},
   "outputs": [
    {
     "data": {
      "text/plain": [
       "Union{AbstractFloat, Int64}"
      ]
     },
     "execution_count": 2,
     "metadata": {},
     "output_type": "execute_result"
    }
   ],
   "source": [
    "IntOrFloat = Union{Int,AbstractFloat}"
   ]
  },
  {
   "cell_type": "code",
   "execution_count": 3,
   "metadata": {},
   "outputs": [
    {
     "data": {
      "text/plain": [
       "1"
      ]
     },
     "execution_count": 3,
     "metadata": {},
     "output_type": "execute_result"
    }
   ],
   "source": [
    "1::IntOrFloat"
   ]
  },
  {
   "cell_type": "code",
   "execution_count": null,
   "metadata": {
    "collapsed": true
   },
   "outputs": [],
   "source": [
    "1.1::IntOrFloat"
   ]
  },
  {
   "cell_type": "code",
   "execution_count": null,
   "metadata": {
    "collapsed": true
   },
   "outputs": [],
   "source": [
    "\"1.1\"::IntOrFloat"
   ]
  },
  {
   "cell_type": "markdown",
   "metadata": {},
   "source": [
    "## Abstractos\n",
    "Para la correcta interacción entre tipos, como hemos visto hasta ahora, es necesario establecer orden entre ellos. Una consecuencia de esto son las relaciones que hay entre los distintos tipos numéricos:\n",
    "<img src=\"https://upload.wikimedia.org/wikipedia/commons/thumb/4/40/Type-hierarchy-for-julia-numbers.png/800px-Type-hierarchy-for-julia-numbers.png\" alt=\"Numbers\" width=\"800px\">\n",
    "\n",
    "\n",
    "Éste es el pedacito de Jula en que se declaran los tipos abstractos:\n",
    "\n",
    "```julia\n",
    "abstract Number\n",
    "abstract Real     <: Number\n",
    "abstract AbstractFloat <: Real\n",
    "abstract Integer  <: Real\n",
    "abstract Signed   <: Integer\n",
    "abstract Unsigned <: Integer\n",
    "```"
   ]
  },
  {
   "cell_type": "markdown",
   "metadata": {},
   "source": [
    "## Tipos de distintos bits\n",
    "Para concretar los tipos numéricos, Julia asigna espacio en bits, como ya hemos visto. Como programador tienes acceso a crear nuevos tipos numéricos si deseas. Éste es el pedacito de Jula en que se declaran los tipo concretos con cada bit:\n",
    "```julia\n",
    "bitstype 16 Float16 <: AbstractFloat\n",
    "bitstype 32 Float32 <: AbstractFloat\n",
    "bitstype 64 Float64 <: AbstractFloat\n",
    "\n",
    "bitstype 8  Bool <: Integer\n",
    "bitstype 32 Char\n",
    "\n",
    "bitstype 8  Int8     <: Signed\n",
    "bitstype 8  UInt8    <: Unsigned\n",
    "bitstype 16 Int16    <: Signed\n",
    "bitstype 16 UInt16   <: Unsigned\n",
    "bitstype 32 Int32    <: Signed\n",
    "bitstype 32 UInt32   <: Unsigned\n",
    "bitstype 64 Int64    <: Signed\n",
    "bitstype 64 UInt64   <: Unsigned\n",
    "bitstype 128 Int128  <: Signed\n",
    "bitstype 128 UInt128 <: Unsigned\n",
    "```\n",
    "[Julia Docs](http://docs.julialang.org/en/release-0.5/manual/types/#bits-types)"
   ]
  },
  {
   "cell_type": "markdown",
   "metadata": {},
   "source": [
    "## Compuestos\n",
    "Similar al \"Struct\" de C, Julia nos permite crear tipos compuestos (composit). Estas son estructuras útiles para la abstracción."
   ]
  },
  {
   "cell_type": "code",
   "execution_count": null,
   "metadata": {
    "collapsed": true
   },
   "outputs": [],
   "source": [
    "type Point2d\n",
    "    x::Int\n",
    "    y::Int\n",
    "end\n",
    "z = Point2d(2,3)"
   ]
  },
  {
   "cell_type": "markdown",
   "metadata": {},
   "source": [
    "Julia crea automáticamente una función que te permite construir nuevos elementos del tipo que acabas de crear:"
   ]
  },
  {
   "cell_type": "code",
   "execution_count": null,
   "metadata": {
    "collapsed": true
   },
   "outputs": [],
   "source": [
    "z"
   ]
  },
  {
   "cell_type": "code",
   "execution_count": null,
   "metadata": {
    "collapsed": true
   },
   "outputs": [],
   "source": [
    "?Point2d"
   ]
  },
  {
   "cell_type": "markdown",
   "metadata": {},
   "source": [
    "No es necesario que cada tipo compuesto tenga anotación de sus tipos:"
   ]
  },
  {
   "cell_type": "code",
   "execution_count": null,
   "metadata": {
    "collapsed": true
   },
   "outputs": [],
   "source": [
    "type Foo\n",
    "    bar\n",
    "    baz\n",
    "end"
   ]
  },
  {
   "cell_type": "code",
   "execution_count": null,
   "metadata": {
    "collapsed": true
   },
   "outputs": [],
   "source": [
    "foo = Foo(\"Perro\",2.2)"
   ]
  },
  {
   "cell_type": "markdown",
   "metadata": {},
   "source": [
    "Una vez que se ha creado un objeto de tipo compuesto es posible modificar sus partes. Para esto es necesario saber los nombres de cada campo."
   ]
  },
  {
   "cell_type": "code",
   "execution_count": null,
   "metadata": {
    "collapsed": true
   },
   "outputs": [],
   "source": [
    "fieldnames(foo)"
   ]
  },
  {
   "cell_type": "markdown",
   "metadata": {},
   "source": [
    "Se accede a los campos del tipo con el operador `.`"
   ]
  },
  {
   "cell_type": "code",
   "execution_count": null,
   "metadata": {
    "collapsed": true
   },
   "outputs": [],
   "source": [
    "foo.bar = \"Gato\"\n",
    "foo"
   ]
  },
  {
   "cell_type": "markdown",
   "metadata": {},
   "source": [
    "#### [Inmutables](http://docs.julialang.org/en/release-0.5/manual/types/#immutable-composite-types)\n",
    "Compuestos inmutables (no se pueden modificar). Se pasan por copia, y pueden ser más eficientes en ciertos casos. \n",
    "```julia\n",
    "immutable Complex\n",
    "    real::Float64\n",
    "    imag::Float64\n",
    "end\n",
    "```"
   ]
  },
  {
   "cell_type": "markdown",
   "metadata": {},
   "source": [
    "## Tipos Paramétricos Compuestos\n",
    "Ya que todos los tipos compestos que hagamos pueden necesitar distintos tipos para sus campos. (Un punto puede estár en cordenadas continuas (x,y) por lo que se necesitarían flotantes para representarlas, o discretas, que requerirían enteros) Julia nos permite crear tipos compuestos que reciben parámetros. Por ejemplo:"
   ]
  },
  {
   "cell_type": "code",
   "execution_count": null,
   "metadata": {
    "collapsed": true
   },
   "outputs": [],
   "source": [
    "type Point2D{T}\n",
    "    x::T\n",
    "    y::T\n",
    "end"
   ]
  },
  {
   "cell_type": "markdown",
   "metadata": {},
   "source": [
    "En este caso a la hora de declarar mi objeto, tengo que eviar un tipo como parametro para los campos del mismo:"
   ]
  },
  {
   "cell_type": "code",
   "execution_count": null,
   "metadata": {
    "collapsed": true
   },
   "outputs": [],
   "source": [
    "Point2D{Float64}(2,3)"
   ]
  },
  {
   "cell_type": "code",
   "execution_count": null,
   "metadata": {
    "collapsed": true
   },
   "outputs": [],
   "source": [
    "Point2D{AbstractString}(\"≥\",\"\")"
   ]
  },
  {
   "cell_type": "markdown",
   "metadata": {},
   "source": [
    "De esta forma hemos empezado a crear un árbol de tipos. La raíz de éste árbol es el tipo `Point2D{T}`:"
   ]
  },
  {
   "cell_type": "code",
   "execution_count": null,
   "metadata": {
    "collapsed": true
   },
   "outputs": [],
   "source": [
    "Point2D"
   ]
  },
  {
   "cell_type": "markdown",
   "metadata": {},
   "source": [
    "Puedes preguntar a Julia si un objeto es subtipo de otro con lo siguiente notación:"
   ]
  },
  {
   "cell_type": "code",
   "execution_count": null,
   "metadata": {
    "collapsed": true
   },
   "outputs": [],
   "source": [
    "Point2D{Float64} <: Point2D"
   ]
  },
  {
   "cell_type": "markdown",
   "metadata": {},
   "source": [
    "## Tipos Paramétricos Abstractos\n",
    "De la misma manera en que los números en julia pueden formar un árbol de tipos a través de los tipos abstractos, los tipos compuestos pueden tener tipos abstractos, que también pueden recibír parámetros."
   ]
  },
  {
   "cell_type": "code",
   "execution_count": null,
   "metadata": {
    "collapsed": true
   },
   "outputs": [],
   "source": [
    "abstract Pointy{T}"
   ]
  },
  {
   "cell_type": "code",
   "execution_count": null,
   "metadata": {
    "collapsed": true
   },
   "outputs": [],
   "source": [
    "type Point{T} <: Pointy{T}\n",
    "    x::T\n",
    "    y::T\n",
    "end"
   ]
  },
  {
   "cell_type": "code",
   "execution_count": null,
   "metadata": {
    "collapsed": true
   },
   "outputs": [],
   "source": [
    "Point{Real} <: Pointy{Real} # Point{Real} es subtipo de Pointy{Real}?"
   ]
  },
  {
   "cell_type": "code",
   "execution_count": null,
   "metadata": {
    "collapsed": true
   },
   "outputs": [],
   "source": [
    "type DiagPoint{T} <: Pointy{T}\n",
    "    x::T\n",
    "end"
   ]
  },
  {
   "cell_type": "markdown",
   "metadata": {},
   "source": [
    "De esta forma, `Point` y `DiagPoint` son subtipos de `Pointy`."
   ]
  },
  {
   "cell_type": "markdown",
   "metadata": {},
   "source": [
    "## Funciones útiles\n",
    "Existen funciones útiles para el manejo de tipos de datos. A continuación presento las más comunes.\n",
    "- `typeof()` Regresa el tipo concreto de una variable.\n",
    "- `isa()` Regresa cierto si una variable tiene el tipo o es subtipo del segundo argumento. \n",
    "- `supertype()` Regresa el primer supertipo de la variable ingresada.\n",
    "- `convert()` Convierte una variable a otro tipo.\n",
    "- `parse()` Procesa texto: puede usarse para convertir texto a números."
   ]
  },
  {
   "cell_type": "code",
   "execution_count": 2,
   "metadata": {},
   "outputs": [
    {
     "data": {
      "text/plain": [
       "Rational{Int64}"
      ]
     },
     "execution_count": 2,
     "metadata": {},
     "output_type": "execute_result"
    }
   ],
   "source": [
    "typeof(1//6)"
   ]
  },
  {
   "cell_type": "code",
   "execution_count": 1,
   "metadata": {},
   "outputs": [
    {
     "name": "stdout",
     "output_type": "stream",
     "text": [
      "false\n",
      "true\n"
     ]
    }
   ],
   "source": [
    "println(isa(1, Float64))\n",
    "println(isa(1.0, Float64))"
   ]
  },
  {
   "cell_type": "code",
   "execution_count": 3,
   "metadata": {},
   "outputs": [
    {
     "data": {
      "text/plain": [
       "AbstractFloat"
      ]
     },
     "execution_count": 3,
     "metadata": {},
     "output_type": "execute_result"
    }
   ],
   "source": [
    "supertype(Float64)"
   ]
  },
  {
   "cell_type": "code",
   "execution_count": 7,
   "metadata": {},
   "outputs": [
    {
     "ename": "LoadError",
     "evalue": "\u001b[91mUndefVarError: int64 not defined\u001b[39m",
     "output_type": "error",
     "traceback": [
      "\u001b[91mUndefVarError: int64 not defined\u001b[39m",
      "",
      "Stacktrace:",
      " [1] \u001b[1minclude_string\u001b[22m\u001b[22m\u001b[1m(\u001b[22m\u001b[22m::String, ::String\u001b[1m)\u001b[22m\u001b[22m at \u001b[1m.\\loading.jl:515\u001b[22m\u001b[22m"
     ]
    }
   ],
   "source": [
    "convert(int64, 1.0)"
   ]
  },
  {
   "cell_type": "code",
   "execution_count": null,
   "metadata": {
    "collapsed": true
   },
   "outputs": [],
   "source": [
    "parse(Float64, \"3.14\")"
   ]
  },
  {
   "cell_type": "markdown",
   "metadata": {},
   "source": [
    "## Convertir un tipo compuesto\n",
    "Cuando creas un tipo compuesto, a veces es necesario convertir a otros tipos. Para esto puede crearse una función de conversión. "
   ]
  },
  {
   "cell_type": "code",
   "execution_count": null,
   "metadata": {
    "collapsed": true
   },
   "outputs": [],
   "source": [
    "convert(::Type{AbstractFloat}, p::Point) = abs(p.x,p.y)"
   ]
  },
  {
   "cell_type": "markdown",
   "metadata": {},
   "source": [
    "Más adelante hablaremos sobre funciones a profundidad"
   ]
  },
  {
   "cell_type": "markdown",
   "metadata": {},
   "source": [
    "## Aliases de Tipos\n",
    "Existen tipos de datos que tinen un alias con el fin de facilitar el llamado de tipos dependientes de bits:\n",
    "- `Int`\n",
    "- `UInt`"
   ]
  },
  {
   "cell_type": "code",
   "execution_count": null,
   "metadata": {
    "collapsed": true
   },
   "outputs": [],
   "source": [
    "println(typeof(Int(2)))\n",
    "println(typeof(UInt(2)))"
   ]
  },
  {
   "cell_type": "code",
   "execution_count": 4,
   "metadata": {},
   "outputs": [
    {
     "ename": "LoadError",
     "evalue": "\u001b[91msyntax: type declarations on global variables are not yet supported\u001b[39m",
     "output_type": "error",
     "traceback": [
      "\u001b[91msyntax: type declarations on global variables are not yet supported\u001b[39m",
      "",
      "Stacktrace:",
      " [1] \u001b[1minclude_string\u001b[22m\u001b[22m\u001b[1m(\u001b[22m\u001b[22m::String, ::String\u001b[1m)\u001b[22m\u001b[22m at \u001b[1m.\\loading.jl:515\u001b[22m\u001b[22m"
     ]
    }
   ],
   "source": [
    "local x::Int8  # in a local declaration\n",
    "x::Int8 = 10"
   ]
  },
  {
   "cell_type": "code",
   "execution_count": null,
   "metadata": {
    "collapsed": true
   },
   "outputs": [],
   "source": []
  }
 ],
 "metadata": {
  "kernelspec": {
   "display_name": "Julia 0.6.0",
   "language": "julia",
   "name": "julia-0.6"
  },
  "language_info": {
   "file_extension": ".jl",
   "mimetype": "application/julia",
   "name": "julia",
   "version": "0.6.0"
  },
  "widgets": {
   "state": {},
   "version": "1.1.2"
  }
 },
 "nbformat": 4,
 "nbformat_minor": 2
}
