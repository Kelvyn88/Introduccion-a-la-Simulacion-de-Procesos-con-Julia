{
 "cells": [
  {
   "cell_type": "markdown",
   "metadata": {},
   "source": [
    "![Figura 1](Fig/model1.jpg)\n",
    "\n",
    "\\begin{gather*} \n",
    "\\frac{dCa}{dt}=\\frac{q}{V}*(Ca_f-Ca)-k_0*Ca*exp^\\frac{-E*R}{T}\\\\\n",
    "\\frac{dT}{dt}=\\frac{q}{V}*(T_f-T)-\\frac{\\Delta{h}}{\\rho*Cp}*k_0*Ca*exp^\\frac{-E*R}{T}\n",
    "\\end{gather*} "
   ]
  },
  {
   "cell_type": "code",
   "execution_count": 2,
   "metadata": {},
   "outputs": [
    {
     "name": "stderr",
     "output_type": "stream",
     "text": [
      "\u001b[1m\u001b[33mWARNING: \u001b[39m\u001b[22m\u001b[33mreplacing docs for 'cstr1 :: Tuple{Any,Any,Any}' in module 'Main'.\u001b[39m\n"
     ]
    },
    {
     "data": {
      "text/plain": [
       "cstr1"
      ]
     },
     "execution_count": 2,
     "metadata": {},
     "output_type": "execute_result"
    }
   ],
   "source": [
    "\"\"\" CSTR model from\n",
    "\n",
    "Michael A. Henson and Dale E. Seborg.  Nonlinear Process Control.\n",
    "Prentice Hall PTR, Upper Saddle River, New Jersey, 1997.\n",
    "\n",
    "Description:\n",
    "Continuously Stirred Tank Reactor with energy balance and reaction A->B.\n",
    "The temperature of the cooling jacket is the control.\"\"\"\n",
    "\n",
    "function cstr1(t,x,dx)\n",
    "# Input (1):\n",
    "# Temperature of cooling jacket (K)\n",
    "Tc = u\n",
    "\n",
    "# States (2):\n",
    "# Concentration of A in CSTR (mol/m^3)\n",
    "Ca = x[1]\n",
    "# Temperature in CSTR (K)\n",
    "T = x[2]\n",
    "\n",
    "# Parameters:\n",
    "# Volumetric Flowrate (m^3/sec)\n",
    "q = 100\n",
    "# Volume of CSTR (m^3)\n",
    "V = 100\n",
    "# Density of A-B Mixture (kg/m^3)\n",
    "rho = 1000\n",
    "# Heat capacity of A-B Mixture (J/kg-K)\n",
    "Cp = .239\n",
    "# Heat of reaction for A->B (J/mol)\n",
    "mdelH = 5e4\n",
    "# E - Activation energy in the Arrhenius Equation (J/mol)\n",
    "# R - Universal Gas Constant = 8.31451 J/mol-K\n",
    "EoverR = 8750\n",
    "# Pre-exponential factor (1/sec)\n",
    "k0 = 7.2e10\n",
    "# U - Overall Heat Transfer Coefficient (W/m^2-K)\n",
    "# A - Area - this value is specific for the U calculation (m^2)\n",
    "UA = 5e4\n",
    "# Feed Concentration (mol/m^3)\n",
    "Caf = 1\n",
    "# Feed Temperature (K)\n",
    "Tf = 350\n",
    "\n",
    "# Compute ODEs:\n",
    "dx[1] = (q/V*(Caf - Ca) - k0*exp(-EoverR/T)*Ca)\n",
    "dx[2] = (q/V*(Tf - T) + mdelH/(rho*Cp)*k0*exp(-EoverR/T)*Ca + UA/V/rho/Cp*(Tc-T))\n",
    "end"
   ]
  },
  {
   "cell_type": "code",
   "execution_count": 9,
   "metadata": {},
   "outputs": [
    {
     "data": {
      "text/html": [
       "<img src=\"data:image/png;base64,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\" />"
      ]
     },
     "execution_count": 9,
     "metadata": {},
     "output_type": "execute_result"
    }
   ],
   "source": [
    "using DifferentialEquations\n",
    "using Plots\n",
    "using LaTeXStrings\n",
    "pyplot()\n",
    "\n",
    "# Step test for Model 1 - CSTR\n",
    "# Created by Kelvyn - Liliana\n",
    "\n",
    "# Steady State Initial Conditions for the States\n",
    "Ca_ss = 0.87725294608097\n",
    "T_ss = 324.475443431599\n",
    "x_ss = [Ca_ss;T_ss]\n",
    "\n",
    "# Steady State Initial Condition for the Control\n",
    "u_ss = 300\n",
    "\n",
    "# Open Loop Step Change\n",
    "u = 303\n",
    "\n",
    "# Final Time (sec)\n",
    "tf = 15.0\n",
    "\n",
    "tspan = (0.0,tf)\n",
    "prob = ODEProblem(cstr1,x_ss,tspan)\n",
    "sol = solve(prob, DP5(),saveat=0.1)\n",
    "\n",
    "# Parse out the state values\n",
    "Ca = sol[1,:]\n",
    "T = sol[2,:]\n",
    "\n",
    "# Plot the results\n",
    "p1 = plot(sol.t,Ca,label=\"Ca\",lw=2,linecolor=:red,\n",
    "        ylabel=\"Concentración (mol/m^3)\",ylims=(0,1))\n",
    "#plot!(sol.t,sol[2,:],label=\"Ca\",lw=2,linecolor=:red,\n",
    " #       ylabel=\"Temperatura (°C)\")"
   ]
  },
  {
   "cell_type": "code",
   "execution_count": null,
   "metadata": {
    "collapsed": true
   },
   "outputs": [],
   "source": [
    "cstr1"
   ]
  }
 ],
 "metadata": {
  "kernelspec": {
   "display_name": "Julia 0.6.0",
   "language": "julia",
   "name": "julia-0.6"
  },
  "language_info": {
   "file_extension": ".jl",
   "mimetype": "application/julia",
   "name": "julia",
   "version": "0.6.0"
  }
 },
 "nbformat": 4,
 "nbformat_minor": 2
}
