{
 "cells": [
  {
   "cell_type": "code",
   "execution_count": 6,
   "metadata": {},
   "outputs": [
    {
     "name": "stderr",
     "output_type": "stream",
     "text": [
      "\u001b[1m\u001b[36mINFO: \u001b[39m\u001b[22m\u001b[36mPrecompiling module Ipopt.\n",
      "\u001b[39m"
     ]
    }
   ],
   "source": [
    "using JuMP\n",
    "using Ipopt"
   ]
  },
  {
   "cell_type": "code",
   "execution_count": 7,
   "metadata": {},
   "outputs": [
    {
     "name": "stdout",
     "output_type": "stream",
     "text": [
      "\n",
      "******************************************************************************\n",
      "This program contains Ipopt, a library for large-scale nonlinear optimization.\n",
      " Ipopt is released as open source code under the Eclipse Public License (EPL).\n",
      "         For more information visit http://projects.coin-or.org/Ipopt\n",
      "******************************************************************************\n",
      "\n",
      "This is Ipopt version 3.12.2, running with linear solver mumps.\n",
      "NOTE: Other linear solvers might be more efficient (see Ipopt documentation).\n",
      "\n",
      "Number of nonzeros in equality constraint Jacobian...:        0\n",
      "Number of nonzeros in inequality constraint Jacobian.:        2\n",
      "Number of nonzeros in Lagrangian Hessian.............:        1\n",
      "\n",
      "Total number of variables............................:        2\n",
      "                     variables with only lower bounds:        1\n",
      "                variables with lower and upper bounds:        0\n",
      "                     variables with only upper bounds:        0\n",
      "Total number of equality constraints.................:        0\n",
      "Total number of inequality constraints...............:        1\n",
      "        inequality constraints with only lower bounds:        0\n",
      "   inequality constraints with lower and upper bounds:        0\n",
      "        inequality constraints with only upper bounds:        1\n",
      "\n",
      "iter    objective    inf_pr   inf_du lg(mu)  ||d||  lg(rg) alpha_du alpha_pr  ls\n",
      "   0 0.0000000e+000 0.00e+000 6.73e-001  -1.0 0.00e+000    -  0.00e+000 0.00e+000   0\n",
      "   1 -1.8583964e-001 0.00e+000 1.61e+000  -1.0 1.47e+000    -  3.81e-001 1.00e+000f  1\n",
      "   2 -9.6081306e+002 0.00e+000 3.18e+001  -1.0 3.02e+001   0.0 6.15e-003 1.00e+000f  1\n",
      "   3 -2.4606611e+003 0.00e+000 4.98e+001  -1.0 1.87e+001   0.4 1.00e+000 1.00e+000f  1\n",
      "   4 -3.3320464e+003 0.00e+000 5.79e+001  -1.0 8.15e+000   0.9 1.00e+000 1.00e+000f  1\n",
      "   5 -9.9702185e+003 0.00e+000 1.00e+002  -1.0 4.22e+001   0.4 1.00e+000 1.00e+000f  1\n",
      "   6 -1.4070031e+004 0.00e+000 1.19e+002  -1.0 1.88e+001   0.8 1.00e+000 1.00e+000f  1\n",
      "   7 -5.0972588e+004 0.00e+000 2.26e+002  -1.0 1.07e+002   0.3 1.00e+000 1.00e+000f  1\n",
      "   8 -7.5434695e+004 0.00e+000 2.75e+002  -1.0 4.89e+001   0.7 1.00e+000 1.00e+000f  1\n",
      "   9 -3.4728009e+005 0.00e+000 5.89e+002  -1.0 3.15e+002   0.3 7.57e-001 1.00e+000f  1\n",
      "iter    objective    inf_pr   inf_du lg(mu)  ||d||  lg(rg) alpha_du alpha_pr  ls\n",
      "  10 -5.4293174e+005 0.00e+000 7.37e+002  -1.0 1.48e+002   0.7 1.00e+000 1.00e+000f  1\n",
      "  11 -3.4048476e+006 0.00e+000 1.85e+003  -1.0 1.11e+003   0.2 5.82e-001 1.00e+000f  1\n",
      "  12 -5.6725596e+006 0.00e+000 2.38e+003  -1.0 5.37e+002   0.6 1.00e+000 1.00e+000f  1\n",
      "  13 -5.3957487e+007 0.00e+000 7.35e+003  -1.0 4.96e+003   0.2 4.30e-001 1.00e+000f  1\n",
      "  14 -9.6802890e+007 0.00e+000 9.84e+003  -1.0 2.49e+003   0.6 1.00e+000 1.00e+000f  1\n",
      "  15 -1.6838659e+009 0.00e+000 4.10e+004  -1.0 3.12e+004   0.1 2.90e-001 1.00e+000f  1\n",
      "  16 -3.2945896e+009 0.00e+000 5.74e+004  -1.0 1.64e+004   0.5 1.00e+000 1.00e+000f  1\n",
      "  17 -1.5726541e+011 0.00e+000 3.97e+005  -1.0 3.39e+005   0.1 1.60e-001 1.00e+000f  1\n",
      "  18 -3.4083131e+011 0.00e+000 5.84e+005  -1.0 1.87e+005   0.5 1.00e+000 1.00e+000f  1\n",
      "  19 -2.3814873e+014 0.00e+000 1.54e+007  -1.0 1.48e+007   0.0 3.85e-002 1.00e+000f  1\n",
      "iter    objective    inf_pr   inf_du lg(mu)  ||d||  lg(rg) alpha_du alpha_pr  ls\n",
      "  20 -5.8289859e+014 0.00e+000 2.41e+007  -1.0 8.71e+006   0.4 1.00e+000 1.00e+000f  1\n",
      "  21 -7.7959160e+014 0.00e+000 2.79e+007  -1.0 3.78e+006   0.9 1.00e+000 1.00e+000f  1\n",
      "  22 -2.2088700e+015 0.00e+000 4.70e+007  -1.0 1.91e+007   0.4 1.00e+000 1.00e+000f  1\n",
      "  23 -3.0732788e+015 0.00e+000 5.54e+007  -1.0 8.44e+006   0.8 1.00e+000 1.00e+000f  1\n",
      "  24 -1.0409979e+016 0.00e+000 1.02e+008  -1.0 4.66e+007   0.3 1.00e+000 1.00e+000f  1\n",
      "  25 -1.5156467e+016 0.00e+000 1.23e+008  -1.0 2.11e+007   0.8 1.00e+000 1.00e+000f  1\n",
      "  26 -6.4099456e+016 0.00e+000 2.53e+008  -1.0 1.30e+008   0.3 8.33e-001 1.00e+000f  1\n",
      "  27 -9.8340374e+016 0.00e+000 3.14e+008  -1.0 6.04e+007   0.7 1.00e+000 1.00e+000f  1\n",
      "  28 -5.5209141e+017 0.00e+000 7.43e+008  -1.0 4.29e+008   0.2 6.36e-001 1.00e+000f  1\n",
      "  29 -8.9989284e+017 0.00e+000 9.49e+008  -1.0 2.06e+008   0.7 1.00e+000 1.00e+000f  1\n",
      "iter    objective    inf_pr   inf_du lg(mu)  ||d||  lg(rg) alpha_du alpha_pr  ls\n",
      "  30 -7.3543636e+018 0.00e+000 2.71e+009  -1.0 1.76e+009   0.2 4.78e-001 1.00e+000f  1\n",
      "  31 -1.2861731e+019 0.00e+000 3.59e+009  -1.0 8.74e+008   0.6 1.00e+000 1.00e+000f  1\n",
      "  32 -1.7836968e+020 0.00e+000 1.34e+010  -1.0 9.77e+009   0.1 3.35e-001 1.00e+000f  1\n",
      "  33 -3.3869540e+020 0.00e+000 1.84e+010  -1.0 5.05e+009   0.6 1.00e+000 1.00e+000f  1\n",
      "  34 -1.0799482e+022 0.00e+000 1.04e+011  -1.0 8.55e+010   0.1 2.02e-001 1.00e+000f  1\n",
      "  35 -2.2590791e+022 0.00e+000 1.50e+011  -1.0 4.64e+010   0.5 1.00e+000 1.00e+000f  1\n",
      "  36 -4.0998438e+024 0.00e+000 2.02e+012  -1.0 1.87e+012   0.0 7.76e-002 1.00e+000f  1\n",
      "  37 -9.6196343e+024 0.00e+000 3.10e+012  -1.0 1.08e+012   0.5 1.00e+000 1.00e+000f  1\n",
      "  38 -1.2714700e+025 0.00e+000 3.57e+012  -1.0 4.64e+011   0.9 1.00e+000 1.00e+000f  1\n",
      "  39 -3.4232832e+025 0.00e+000 5.85e+012  -1.0 2.29e+012   0.4 1.00e+000 1.00e+000f  1\n",
      "iter    objective    inf_pr   inf_du lg(mu)  ||d||  lg(rg) alpha_du alpha_pr  ls\n",
      "  40 -4.6988837e+025 0.00e+000 6.85e+012  -1.0 1.00e+012   0.8 1.00e+000 1.00e+000f  1\n",
      "  41 -1.4950504e+026 0.00e+000 1.22e+013  -1.0 5.37e+012   0.4 1.00e+000 1.00e+000f  1\n",
      "  42 -2.1430912e+026 0.00e+000 1.46e+013  -1.0 2.41e+012   0.8 1.00e+000 1.00e+000f  1\n",
      "  43 -8.3802490e+026 0.00e+000 2.89e+013  -1.0 1.43e+013   0.3 9.14e-001 1.00e+000f  1\n",
      "  44 -1.2627827e+027 0.00e+000 3.55e+013  -1.0 6.59e+012   0.7 1.00e+000 1.00e+000f  1\n",
      "  45 -6.4082094e+027 0.00e+000 8.01e+013  -1.0 4.45e+013   0.3 6.90e-001 1.00e+000f  1\n",
      "  46 -1.0229902e+028 0.00e+000 1.01e+014  -1.0 2.11e+013   0.7 1.00e+000 1.00e+000f  1\n",
      "  47 -7.2979333e+028 0.00e+000 2.70e+014  -1.0 1.69e+014   0.2 5.28e-001 1.00e+000f  1\n",
      "  48 -1.2457273e+029 0.00e+000 3.53e+014  -1.0 8.28e+013   0.6 1.00e+000 1.00e+000f  1\n",
      "  49 -1.4198846e+030 0.00e+000 1.19e+015  -1.0 8.39e+014   0.2 3.80e-001 1.00e+000f  1\n",
      "iter    objective    inf_pr   inf_du lg(mu)  ||d||  lg(rg) alpha_du alpha_pr  ls\n",
      "  50 -2.6206495e+030 0.00e+000 1.62e+015  -1.0 4.27e+014   0.6 1.00e+000 1.00e+000f  1\n",
      "  51 -6.0442645e+031 0.00e+000 7.77e+015  -1.0 6.16e+015   0.1 2.44e-001 1.00e+000f  1\n",
      "  52 -1.2227244e+032 0.00e+000 1.11e+016  -1.0 3.28e+015   0.5 1.00e+000 1.00e+000f  1\n",
      "  53 -1.0243808e+034 0.00e+000 1.01e+017  -1.0 9.02e+016   0.1 1.17e-001 1.00e+000f  1\n",
      "  54 -2.3096822e+034 0.00e+000 1.52e+017  -1.0 5.08e+016   0.5 1.00e+000 1.00e+000f  1\n",
      "  55 -3.0185303e+034 0.00e+000 1.74e+017  -1.0 2.18e+016   0.9 1.00e+000 1.00e+000f  1\n",
      "  56 -7.7468573e+034 0.00e+000 2.78e+017  -1.0 1.05e+017   0.4 1.00e+000 1.00e+000f  1\n",
      "  57 -1.0496809e+035 0.00e+000 3.24e+017  -1.0 4.57e+016   0.9 1.00e+000 1.00e+000f  1\n",
      "  58 -3.1502115e+035 0.00e+000 5.61e+017  -1.0 2.37e+017   0.4 1.00e+000 1.00e+000f  1\n",
      "  59 -4.4490407e+035 0.00e+000 6.67e+017  -1.0 1.06e+017   0.8 1.00e+000 1.00e+000f  1\n",
      "iter    objective    inf_pr   inf_du lg(mu)  ||d||  lg(rg) alpha_du alpha_pr  ls\n",
      "  60 -1.6178693e+036 0.00e+000 1.27e+018  -1.0 6.05e+017   0.3 9.99e-001 1.00e+000f  1\n",
      "  61 -2.3964605e+036 0.00e+000 1.55e+018  -1.0 2.76e+017   0.7 1.00e+000 1.00e+000f  1\n",
      "  62 -1.1085642e+037 0.00e+000 3.33e+018  -1.0 1.78e+018   0.3 7.47e-001 1.00e+000f  1\n",
      "  63 -1.7349252e+037 0.00e+000 4.17e+018  -1.0 8.36e+017   0.7 1.00e+000 1.00e+000f  1\n",
      "  64 -1.0948853e+038 0.00e+000 1.05e+019  -1.0 6.30e+018   0.2 9.96e-002 1.00e+000f  1\n",
      "  65 -1.8263249e+038 0.00e+000 1.35e+019  -1.0 3.05e+018   0.6 1.00e+000 1.00e+000f  1\n",
      "  66 -1.7524394e+039 0.00e+000 4.19e+019  -1.0 2.83e+019   0.2 1.07e-001 1.00e+000f  1\n",
      "  67 -3.1484449e+039 0.00e+000 5.61e+019  -1.0 1.42e+019   0.6 1.00e+000 1.00e+000f  1\n",
      "  68 -5.1747063e+040 0.00e+000 2.27e+020  -1.0 1.79e+020   0.1 3.22e-001 9.55e-001f  1\n",
      "\n",
      "Number of Iterations....: 68\n",
      "\n",
      "                                   (scaled)                 (unscaled)\n",
      "Objective...............: -5.1747063026399582e+040  -5.1747063026399582e+040\n",
      "Dual infeasibility......:  2.2747980795314468e+020   2.2747980795314468e+020\n",
      "Constraint violation....:  0.0000000000000000e+000   0.0000000000000000e+000\n",
      "Complementarity.........:  3.6111554441677139e-003   3.6111554441677139e-003\n",
      "Overall NLP error.......:  4.5936609027807044e+019   2.2747980795314468e+020\n",
      "\n",
      "\n",
      "Number of objective function evaluations             = 69\n",
      "Number of objective gradient evaluations             = 69\n",
      "Number of equality constraint evaluations            = 0\n",
      "Number of inequality constraint evaluations          = 69\n",
      "Number of equality constraint Jacobian evaluations   = 0\n",
      "Number of inequality constraint Jacobian evaluations = 69\n",
      "Number of Lagrangian Hessian evaluations             = 68\n",
      "Total CPU secs in IPOPT (w/o function evaluations)   =      0.407\n",
      "Total CPU secs in NLP function evaluations           =      0.312\n",
      "\n",
      "EXIT: Iterates diverging; problem might be unbounded.\n"
     ]
    },
    {
     "name": "stderr",
     "output_type": "stream",
     "text": [
      "\u001b[1m\u001b[33mWARNING: \u001b[39m\u001b[22m\u001b[33mNot solved to optimality, status: Unbounded\u001b[39m\n"
     ]
    },
    {
     "data": {
      "text/plain": [
       ":Unbounded"
      ]
     },
     "execution_count": 7,
     "metadata": {},
     "output_type": "execute_result"
    }
   ],
   "source": [
    "modelo1 = Model(solver=IpoptSolver())\n",
    "\n",
    "@variable(modelo1, X)\n",
    "@variable(modelo1, Y >= 0)\n",
    "\n",
    "@constraint(modelo1, X + Y <=10)\n",
    "\n",
    "@objective(modelo1, Min, X*Y)\n",
    "\n",
    "solve(modelo1)\n",
    "\n",
    "\n",
    "\n"
   ]
  },
  {
   "cell_type": "code",
   "execution_count": null,
   "metadata": {
    "collapsed": true
   },
   "outputs": [],
   "source": []
  }
 ],
 "metadata": {
  "kernelspec": {
   "display_name": "Julia 0.6.0",
   "language": "julia",
   "name": "julia-0.6"
  },
  "language_info": {
   "file_extension": ".jl",
   "mimetype": "application/julia",
   "name": "julia",
   "version": "0.6.0"
  }
 },
 "nbformat": 4,
 "nbformat_minor": 2
}
