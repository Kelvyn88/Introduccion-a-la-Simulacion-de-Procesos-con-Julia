{
 "cells": [
  {
   "cell_type": "markdown",
   "metadata": {},
   "source": [
    "***\n",
    "***\n",
    "## Problema 1\n",
    "\n",
    "Un pastelero fabrica dos tipos de barras de caramelo: Ergies (con energia para los niños) y Nergies (el bocadillo \"local\" para los vigilantes del peso sin fuerza de voluntad). Ergies se vende a un costo de 50 c por caja y Nergies tiene un costo de venta de 60 c por caja. El dulce es procesado en tres diferentes operaciones, mezclado, cocinado y empacado. La tabla siguiente reporta los tiempos promedio en minutos requeridos para cada tipo de dulce, para cada una de las tres actividades. \n",
    "\n",
    "\n",
    "|         | Mezclado (min)| Cocinado (min) | Empacado (min) |\n",
    "|:-------:|:--------:|:-------:|:-------:|\n",
    "|  Ergies |     1    |    5    |    3    |\n",
    "| Nergies |     2    |    4    |    1    |\n",
    "\n",
    "\n",
    "Durante cada corrida de producción, el equipo de mezclado esta disponible por un maximo de 14 horas maquina, el equipo de cocinado a lo mucho 40 horas maquinas, y el equipo de empacado 15 horas maquina. Si cada maquina puede ser asignada a realizar cualquier tipo de dulce en todo el tiempo que esta disponible para la producción, determinar cuandas cajas de cada tipo de dulce el pastelero debe realizar para obtener el maximo beneficio economico. "
   ]
  },
  {
   "cell_type": "code",
   "execution_count": 3,
   "metadata": {},
   "outputs": [
    {
     "name": "stdout",
     "output_type": "stream",
     "text": [
      "Max 0.5 Ergies + 0.6 Nergies\n",
      "Subject to\n",
      " 0.016666666666666666 Ergies + 0.03333333333333333 Nergies <= 40\n",
      " 0.08333333333333333 Ergies + 0.06666666666666667 Nergies <= 40\n",
      " 0.05 Ergies + 0.016666666666666666 Nergies <= 15\n",
      " Nergies <= 500\n",
      " Ergies >= 0, integer\n",
      " Nergies >= 0, integer\n",
      "\n",
      "======================================\n",
      "\u001b[31mGanancia maximizado = 340.0\n",
      "\u001b[39m======================================\n",
      "Ergies = 80.0 cajas\n",
      "Nergies = 500.0 cajas\n"
     ]
    }
   ],
   "source": [
    "#= \n",
    "Importa el paquete JuMP (Julia Mathematical Programming)\n",
    "=#\n",
    "\n",
    "using JuMP\n",
    "\n",
    "#=\n",
    "Cbc resuelve problemas de tipo MILP (Problemas lineares mixtos enteros)\n",
    "=#\n",
    "using Cbc\n",
    "\n",
    "#=\n",
    "Para comenzar configurar el problema de optimización, se requiere invocar la funcion \"Model()\" y dentro de los parentesis \n",
    "se requiere específicar que algoritmo va a ser empleado.\n",
    "=#\n",
    "dulce = Model(solver=CbcSolver())\n",
    "\n",
    "\n",
    "#=\n",
    "Definicíon de variables. Una variable se define mediante el macro:\n",
    "@variable(nombre_del_modelo,nombre_de_variable_, tipo_de_variable)\n",
    "=#\n",
    "\n",
    "@variable(dulce, Ergies >= 0, Int)\n",
    "@variable(dulce, Nergies >= 0, Int)\n",
    "\n",
    "#=\n",
    "Definición de restricciones. \n",
    "=#\n",
    "@constraint(dulce, (1/60)*Ergies + (2/60)*Nergies <= 40)\n",
    "@constraint(dulce, (5/60)*Ergies + (4/60)*Nergies <= 40)\n",
    "@constraint(dulce, (3/60)*Ergies + (1/60)*Nergies <= 15)\n",
    "@constraint(dulce, Nergies <=500)\n",
    "\n",
    "#=\n",
    "Definición de la función objetivo. Se refiere a la ecuacion que permite calcular el beneficio neto de la venta de las cajas de \n",
    "dulces. Por lo que se debe hacer una suma entre las cajas de Ergies por su precio de venta, al igual para Nergies. El primer \n",
    "argumento es el modelo \"dulce\", el segundo es el objetivo de la optimización, Max para maximizar y finalmente la ecuación. \n",
    "=#\n",
    "@objective(dulce, Max, 0.50*Ergies + 0.60*Nergies)\n",
    "\n",
    "#=\n",
    "Finalmente, se resuelve el modelo \"dulce\" empleando la función solve y no se requiere asignar el resultado a una variable, \n",
    "ya que el modelo \"dulce\" lo contiene. \n",
    "=#\n",
    "solve(dulce)\n",
    "\n",
    "# Impresión del problema de optimización desarrollado\n",
    "println(dulce)\n",
    "\n",
    "# Separador\n",
    "println(\"======================================\")\n",
    "\n",
    "# Impresión del costo máximo calculado. Para extraer el costo se emplea la funcion getobjetivevalue (obtener el valor objetivo)\n",
    "print_with_color(:red,\"Ganancia maximizado = \", getobjectivevalue(dulce),\"\\n\")\n",
    "\n",
    "# Separador\n",
    "println(\"======================================\")\n",
    "\n",
    "#= Imprisión del número de cajas de Ergies y Nergies que se deben fabricar para maximizar las ganancias, satisfaciendo las \n",
    "restricciones en el tiempo disponible de las maquinas en cada operación.\n",
    "=#\n",
    "println(\"Ergies = \", getvalue(Ergies), \" cajas\")\n",
    "println(\"Nergies = \", getvalue(Nergies), \" cajas\")\n"
   ]
  },
  {
   "cell_type": "code",
   "execution_count": null,
   "metadata": {
    "collapsed": true
   },
   "outputs": [],
   "source": []
  }
 ],
 "metadata": {
  "kernelspec": {
   "display_name": "Julia 0.6.0",
   "language": "julia",
   "name": "julia-0.6"
  },
  "language_info": {
   "file_extension": ".jl",
   "mimetype": "application/julia",
   "name": "julia",
   "version": "0.6.0"
  }
 },
 "nbformat": 4,
 "nbformat_minor": 2
}
