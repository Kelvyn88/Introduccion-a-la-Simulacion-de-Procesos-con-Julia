{
 "cells": [
  {
   "cell_type": "markdown",
   "metadata": {},
   "source": [
    "<h1><center><font color=\"blue\"> Processes Optimization using Julia Mathematical Programming (JuMP) </font></center></h1>\n",
    "***\n",
    "\n",
    "<p><center><b> M.C. Kelvyn Baruc Sánchez Sánchez </b></center></p>\n",
    "<p><center><b> Ing. Liliana Soledad Nativitas Sandoval </b></center></p>\n"
   ]
  },
  {
   "cell_type": "markdown",
   "metadata": {},
   "source": [
    "<p><font size=3>**Optimization is the** use of specific methods to determine the most cost-effective and efficient solution to a problem or design for a process. This technique is one of the major quantitative tools in industrial decision making. A wide variety of problems in the design, construction, operation, and analysis of chemical plants (as well as many other industrial processes) can be resolved by optimization. In this course we examine the basic characteristics of optimization problems and their solution techniques and describe some typical benefits and applications in the chemical and petroleum industries.<br /></font></p>\n",
    "\n",
    "\n",
    "\n",
    "<p><font size=3>\n",
    "Formulating the problem is perhaps the most crucial step in optimization. Problem formulation requires identifying the essential elements of a conceptual or verbal statement of a given application and organizing them into a prescribed mathematical form, namely,</font></p>\n",
    "\n",
    "<p><font size=3>\n",
    "**1. The objective function (*economic criterion*)**<br />\n",
    "**2. The process model (*constraints*)**\n",
    "</font></p>\n",
    "\n",
    "<p><font size=3>The objective function represents such factors as profit, cost, energy, and yield in terms of the key variables of the process being analyzed. The process model and constraints describe the interrelationships of the key variables. It is important to learn a systematic approach for assembling the physical and empirical relations and data involved in an optimization problem. </font></p>"
   ]
  },
  {
   "cell_type": "code",
   "execution_count": null,
   "metadata": {
    "collapsed": true
   },
   "outputs": [],
   "source": []
  }
 ],
 "metadata": {
  "anaconda-cloud": {},
  "kernelspec": {
   "display_name": "Julia 0.6.0",
   "language": "julia",
   "name": "julia-0.6"
  },
  "language_info": {
   "file_extension": ".jl",
   "mimetype": "application/julia",
   "name": "julia",
   "version": "0.6.0"
  },
  "nbpresent": {
   "slides": {
    "3f4dfa74-86a1-4630-bf2b-d362836d76b5": {
     "id": "3f4dfa74-86a1-4630-bf2b-d362836d76b5",
     "prev": null,
     "regions": {
      "04d53bdf-86b9-4e44-81c3-6c77f142a9b2": {
       "attrs": {
        "height": 0.2,
        "width": 0.4,
        "x": 0.1,
        "y": 0.7
       },
       "content": {
        "cell": "b40f6947-9a61-49f7-b0cd-14caadd99ec2",
        "part": "whole"
       },
       "id": "04d53bdf-86b9-4e44-81c3-6c77f142a9b2"
      },
      "428be550-e3bf-4393-8cd6-803fbe9bb9e0": {
       "attrs": {
        "height": 0.2,
        "width": 0.4,
        "x": 0.5,
        "y": 0.7
       },
       "content": {
        "cell": "a4917295-00f9-4d2e-95fd-61c5f0ed369b",
        "part": "whole"
       },
       "id": "428be550-e3bf-4393-8cd6-803fbe9bb9e0"
      },
      "993a1b4a-8737-40bb-8a83-d2f88cbd40a4": {
       "attrs": {
        "height": 0.6,
        "width": 0.8,
        "x": 0.1,
        "y": 0.1
       },
       "content": {
        "cell": "7f40904e-1617-4044-9e9a-109a84ebc982",
        "part": "whole"
       },
       "id": "993a1b4a-8737-40bb-8a83-d2f88cbd40a4"
      }
     }
    }
   },
   "themes": {
    "default": "a78a7d86-078e-46aa-a15f-89ed1a3abc4b",
    "theme": {}
   }
  }
 },
 "nbformat": 4,
 "nbformat_minor": 1
}
