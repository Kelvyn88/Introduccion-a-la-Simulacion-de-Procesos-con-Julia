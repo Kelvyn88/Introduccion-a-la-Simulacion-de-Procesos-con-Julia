{
 "cells": [
  {
   "cell_type": "markdown",
   "metadata": {},
   "source": [
    "## Find the minimum of the following functions:\n",
    "\n",
    "1. $f(x) = e^x + 1.5x^2$\n",
    "2. $f(x) = 0.5(x^2 + 1)(x + 1)$\n",
    "3. $f(x) = x^3 - 3x$\n",
    "4. $f(x) = 2x^2(x-2)(x+2)$\n",
    "5. $f(x) = 0.1x^6 - 0.29x^5 + 2.31x^4 - 8.33x^3 + 12.89x^2 - 6.8x + 1$"
   ]
  },
  {
   "cell_type": "code",
   "execution_count": 4,
   "metadata": {},
   "outputs": [
    {
     "name": "stderr",
     "output_type": "stream",
     "text": [
      "\u001b[1m\u001b[36mINFO: \u001b[39m\u001b[22m\u001b[36mRecompiling stale cache file C:\\Users\\Kelvyn\\.julia\\lib\\v0.6\\JuMP.ji for module JuMP.\n",
      "\u001b[39m"
     ]
    },
    {
     "name": "stdout",
     "output_type": "stream",
     "text": [
      "\n",
      "******************************************************************************\n",
      "This program contains Ipopt, a library for large-scale nonlinear optimization.\n",
      " Ipopt is released as open source code under the Eclipse Public License (EPL).\n",
      "         For more information visit http://projects.coin-or.org/Ipopt\n",
      "******************************************************************************\n",
      "\n",
      "This is Ipopt version 3.12.2, running with linear solver mumps.\n",
      "NOTE: Other linear solvers might be more efficient (see Ipopt documentation).\n",
      "\n",
      "Number of nonzeros in equality constraint Jacobian...:        0\n",
      "Number of nonzeros in inequality constraint Jacobian.:        0\n",
      "Number of nonzeros in Lagrangian Hessian.............:        1\n",
      "\n",
      "Total number of variables............................:        1\n",
      "                     variables with only lower bounds:        0\n",
      "                variables with lower and upper bounds:        0\n",
      "                     variables with only upper bounds:        0\n",
      "Total number of equality constraints.................:        0\n",
      "Total number of inequality constraints...............:        0\n",
      "        inequality constraints with only lower bounds:        0\n",
      "   inequality constraints with lower and upper bounds:        0\n",
      "        inequality constraints with only upper bounds:        0\n",
      "\n",
      "iter    objective    inf_pr   inf_du lg(mu)  ||d||  lg(rg) alpha_du alpha_pr  ls\n",
      "   0 1.0000000e+000 0.00e+000 6.80e+000  -1.0 0.00e+000    -  0.00e+000 0.00e+000   0\n",
      "   1 -3.8844188e-002 0.00e+000 1.58e+000  -1.0 2.64e-001    -  1.00e+000 1.00e+000f  1\n",
      "   2 -1.3240650e-001 0.00e+000 2.06e-001  -1.0 1.09e-001    -  1.00e+000 1.00e+000f  1\n",
      "   3 -1.3441604e-001 0.00e+000 5.65e-003  -1.7 1.92e-002    -  1.00e+000 1.00e+000f  1\n",
      "   4 -1.3441762e-001 0.00e+000 4.66e-006  -3.8 5.56e-004    -  1.00e+000 1.00e+000f  1\n",
      "   5 -1.3441762e-001 0.00e+000 3.19e-012  -8.6 4.60e-007    -  1.00e+000 1.00e+000f  1\n",
      "\n",
      "Number of Iterations....: 5\n",
      "\n",
      "                                   (scaled)                 (unscaled)\n",
      "Objective...............: -1.3441761588099754e-001  -1.3441761588099754e-001\n",
      "Dual infeasibility......:  3.1858959914643492e-012   3.1858959914643492e-012\n",
      "Constraint violation....:  0.0000000000000000e+000   0.0000000000000000e+000\n",
      "Complementarity.........:  0.0000000000000000e+000   0.0000000000000000e+000\n",
      "Overall NLP error.......:  3.1858959914643492e-012   3.1858959914643492e-012\n",
      "\n",
      "\n",
      "Number of objective function evaluations             = 6\n",
      "Number of objective gradient evaluations             = 6\n",
      "Number of equality constraint evaluations            = 0\n",
      "Number of inequality constraint evaluations          = 0\n",
      "Number of equality constraint Jacobian evaluations   = 0\n",
      "Number of inequality constraint Jacobian evaluations = 0\n",
      "Number of Lagrangian Hessian evaluations             = 5\n",
      "Total CPU secs in IPOPT (w/o function evaluations)   =      0.214\n",
      "Total CPU secs in NLP function evaluations           =      0.040\n",
      "\n",
      "EXIT: Optimal Solution Found.\n",
      "Min (((((0.1 * x ^ 6.0 - 0.29 * x ^ 5.0) + 2.31 * x ^ 4.0) - 8.33 * x ^ 3.0) + 12.89 * x ^ 2.0) - 6.8 * x) + 1.0\n",
      "Subject to\n",
      " x\n",
      "\n",
      "f(x) = -0.13441761588099754\n",
      "x = 0.39263042130793707\n"
     ]
    }
   ],
   "source": [
    "using JuMP\n",
    "using Ipopt\n",
    "\n",
    "ec1 = Model(solver=IpoptSolver())\n",
    "@variable(ec1, x)\n",
    "@NLobjective(ec1, Min, 0.1x^6 - 0.29x^5 + 2.31x^4 - 8.33x^3 + 12.89x^2 - 6.8x + 1)\n",
    "solucion = solve(ec1)\n",
    "\n",
    "\n",
    "println(ec1)\n",
    "println(\"f(x) = \",getobjectivevalue(ec1))\n",
    "println(\"x = \",getvalue(x))"
   ]
  },
  {
   "cell_type": "code",
   "execution_count": 5,
   "metadata": {},
   "outputs": [
    {
     "name": "stderr",
     "output_type": "stream",
     "text": [
      "\u001b[1m\u001b[36mINFO: \u001b[39m\u001b[22m\u001b[36mRecompiling stale cache file C:\\Users\\Kelvyn\\.julia\\lib\\v0.6\\RecipesBase.ji for module RecipesBase.\n",
      "\u001b[39m\u001b[1m\u001b[36mINFO: \u001b[39m\u001b[22m\u001b[36mRecompiling stale cache file C:\\Users\\Kelvyn\\.julia\\lib\\v0.6\\ColorTypes.ji for module ColorTypes.\n",
      "\u001b[39m\u001b[1m\u001b[36mINFO: \u001b[39m\u001b[22m\u001b[36mRecompiling stale cache file C:\\Users\\Kelvyn\\.julia\\lib\\v0.6\\PlotUtils.ji for module PlotUtils.\n",
      "\u001b[39m\u001b[1m\u001b[36mINFO: \u001b[39m\u001b[22m\u001b[36mRecompiling stale cache file C:\\Users\\Kelvyn\\.julia\\lib\\v0.6\\PlotThemes.ji for module PlotThemes.\n",
      "\u001b[39m\u001b[1m\u001b[36mINFO: \u001b[39m\u001b[22m\u001b[36mRecompiling stale cache file C:\\Users\\Kelvyn\\.julia\\lib\\v0.6\\PyPlot.ji for module PyPlot.\n",
      "\u001b[39m"
     ]
    },
    {
     "data": {
      "text/html": [
       "<img src=\"data:image/png;base64,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\" />"
      ]
     },
     "execution_count": 5,
     "metadata": {},
     "output_type": "execute_result"
    }
   ],
   "source": [
    "using Plots\n",
    "pyplot()\n",
    "x = -10:0.1:10\n",
    "y = 0.1x.^6 - 0.29x.^5 + 2.31x.^4 - 8.33x.^3 + 12.89x.^2 - 6.8x + 1\n",
    "plot(x,y)"
   ]
  },
  {
   "cell_type": "code",
   "execution_count": null,
   "metadata": {
    "collapsed": true
   },
   "outputs": [],
   "source": []
  }
 ],
 "metadata": {
  "anaconda-cloud": {},
  "kernelspec": {
   "display_name": "Julia 0.6.0",
   "language": "julia",
   "name": "julia-0.6"
  },
  "language_info": {
   "file_extension": ".jl",
   "mimetype": "application/julia",
   "name": "julia",
   "version": "0.6.0"
  }
 },
 "nbformat": 4,
 "nbformat_minor": 1
}
