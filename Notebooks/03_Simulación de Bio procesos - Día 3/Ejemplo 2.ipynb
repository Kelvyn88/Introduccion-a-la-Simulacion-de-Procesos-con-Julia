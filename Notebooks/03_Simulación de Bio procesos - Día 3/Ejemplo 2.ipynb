{
 "cells": [
  {
   "cell_type": "markdown",
   "metadata": {},
   "source": [
    "<p><font size=\"3\">Ejemplo 2: En la siguiente tabla se presentan datos de la media total de crecimiento\n",
    "de peso seco de plantas de maíz (tallo, raíces y hojas). Ajusta los parametros para los modelos de Bertalanffy, Logístico, Gompertz y Richards. Incluir la gráfica de comparación de datos experimentales y datos obtenidos con el modelo.</font></p>\n",
    "\n",
    "  |Semanas     |Media total de peso seco por planta (g)\n",
    "  |------------|-----------------\n",
    "  |5           |0.308    \n",
    "  |6           |0.637   \n",
    "  |7           |2.319     \n",
    "  |8           |4.654    \n",
    "  |9           |9.019   \n",
    "  |10          |20.001         \n",
    "  |11          |34.557 \n",
    "  |12          |57.587   \n",
    "  |13          |70.095\n",
    "  |14          |85.165\n",
    "  |15          |111.649 \n",
    "  |16          |124.760\n",
    "  |17          |121.990\n",
    " "
   ]
  },
  {
   "cell_type": "code",
   "execution_count": null,
   "metadata": {
    "collapsed": true
   },
   "outputs": [],
   "source": [
    "# Modelo de Bertalanffy"
   ]
  },
  {
   "cell_type": "code",
   "execution_count": null,
   "metadata": {
    "collapsed": true
   },
   "outputs": [],
   "source": [
    "# Modelo Logístico"
   ]
  },
  {
   "cell_type": "code",
   "execution_count": null,
   "metadata": {
    "collapsed": true
   },
   "outputs": [],
   "source": [
    "# Modelo de Gompertz"
   ]
  },
  {
   "cell_type": "code",
   "execution_count": null,
   "metadata": {
    "collapsed": true
   },
   "outputs": [],
   "source": [
    "# Modelo de Richards"
   ]
  }
 ],
 "metadata": {
  "kernelspec": {
   "display_name": "Julia 0.6.0",
   "language": "julia",
   "name": "julia-0.6"
  },
  "language_info": {
   "file_extension": ".jl",
   "mimetype": "application/julia",
   "name": "julia",
   "version": "0.6.0"
  }
 },
 "nbformat": 4,
 "nbformat_minor": 2
}
